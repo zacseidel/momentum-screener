{
 "cells": [
  {
   "cell_type": "code",
   "execution_count": null,
   "id": "6a9841f2",
   "metadata": {},
   "outputs": [],
   "source": []
  },
  {
   "cell_type": "markdown",
   "id": "1e6a26e8",
   "metadata": {},
   "source": [
    "## Step 1: Initialize the Database\n"
   ]
  },
  {
   "cell_type": "markdown",
   "id": "0de2dacb",
   "metadata": {},
   "source": []
  },
  {
   "cell_type": "code",
   "execution_count": 16,
   "id": "606b6089",
   "metadata": {},
   "outputs": [
    {
     "name": "stdout",
     "output_type": "stream",
     "text": [
      "DB path: /Users/zacseidel/Documents/GitHub/momentum-screener/data/market_data.sqlite\n",
      "Will create directory: /Users/zacseidel/Documents/GitHub/momentum-screener/data\n",
      "Database initialized at /Users/zacseidel/Documents/GitHub/momentum-screener/data/market_data.sqlite\n"
     ]
    }
   ],
   "source": [
    "# Run init_db.py to create the SQLite schema\n",
    "!python ../init_db.py  # Adjust the path if needed\n"
   ]
  },
  {
   "cell_type": "markdown",
   "id": "aa88e5ee",
   "metadata": {},
   "source": [
    "## Step 2: Connect and Inspect Tables"
   ]
  },
  {
   "cell_type": "code",
   "execution_count": null,
   "id": "7758bc50",
   "metadata": {},
   "outputs": [
    {
     "data": {
      "application/vnd.microsoft.datawrangler.viewer.v0+json": {
       "columns": [
        {
         "name": "index",
         "rawType": "int64",
         "type": "integer"
        },
        {
         "name": "name",
         "rawType": "object",
         "type": "string"
        }
       ],
       "conversionMethod": "pd.DataFrame",
       "ref": "fca257f2-dc5f-4f68-8647-776b7012b411",
       "rows": [
        [
         "0",
         "index_constituents"
        ],
        [
         "1",
         "index_allocations"
        ],
        [
         "2",
         "daily_prices"
        ],
        [
         "3",
         "top10_picks"
        ],
        [
         "4",
         "company_info"
        ],
        [
         "5",
         "company_news"
        ]
       ],
       "shape": {
        "columns": 1,
        "rows": 6
       }
      },
      "text/html": [
       "<div>\n",
       "<style scoped>\n",
       "    .dataframe tbody tr th:only-of-type {\n",
       "        vertical-align: middle;\n",
       "    }\n",
       "\n",
       "    .dataframe tbody tr th {\n",
       "        vertical-align: top;\n",
       "    }\n",
       "\n",
       "    .dataframe thead th {\n",
       "        text-align: right;\n",
       "    }\n",
       "</style>\n",
       "<table border=\"1\" class=\"dataframe\">\n",
       "  <thead>\n",
       "    <tr style=\"text-align: right;\">\n",
       "      <th></th>\n",
       "      <th>name</th>\n",
       "    </tr>\n",
       "  </thead>\n",
       "  <tbody>\n",
       "    <tr>\n",
       "      <th>0</th>\n",
       "      <td>index_constituents</td>\n",
       "    </tr>\n",
       "    <tr>\n",
       "      <th>1</th>\n",
       "      <td>index_allocations</td>\n",
       "    </tr>\n",
       "    <tr>\n",
       "      <th>2</th>\n",
       "      <td>daily_prices</td>\n",
       "    </tr>\n",
       "    <tr>\n",
       "      <th>3</th>\n",
       "      <td>top10_picks</td>\n",
       "    </tr>\n",
       "    <tr>\n",
       "      <th>4</th>\n",
       "      <td>company_info</td>\n",
       "    </tr>\n",
       "    <tr>\n",
       "      <th>5</th>\n",
       "      <td>company_news</td>\n",
       "    </tr>\n",
       "  </tbody>\n",
       "</table>\n",
       "</div>"
      ],
      "text/plain": [
       "                 name\n",
       "0  index_constituents\n",
       "1   index_allocations\n",
       "2        daily_prices\n",
       "3         top10_picks\n",
       "4        company_info\n",
       "5        company_news"
      ]
     },
     "execution_count": 22,
     "metadata": {},
     "output_type": "execute_result"
    }
   ],
   "source": [
    "import sqlite3\n",
    "import pandas as pd\n",
    "\n",
    "conn = sqlite3.connect(\"../data/market_data.sqlite\")\n",
    "\n",
    "# Check that all tables exist\n",
    "pd.read_sql(\"SELECT name FROM sqlite_master WHERE type='table'\", conn)\n"
   ]
  },
  {
   "cell_type": "markdown",
   "id": "c3a84819",
   "metadata": {},
   "source": [
    "## Step 3 Preview the Table Schemas"
   ]
  },
  {
   "cell_type": "code",
   "execution_count": 18,
   "id": "94980997",
   "metadata": {},
   "outputs": [
    {
     "data": {
      "application/vnd.microsoft.datawrangler.viewer.v0+json": {
       "columns": [
        {
         "name": "index",
         "rawType": "int64",
         "type": "integer"
        },
        {
         "name": "cid",
         "rawType": "int64",
         "type": "integer"
        },
        {
         "name": "name",
         "rawType": "object",
         "type": "string"
        },
        {
         "name": "type",
         "rawType": "object",
         "type": "string"
        },
        {
         "name": "notnull",
         "rawType": "int64",
         "type": "integer"
        },
        {
         "name": "dflt_value",
         "rawType": "object",
         "type": "unknown"
        },
        {
         "name": "pk",
         "rawType": "int64",
         "type": "integer"
        }
       ],
       "conversionMethod": "pd.DataFrame",
       "ref": "5caa0cc3-347a-48c4-a635-044df8b63236",
       "rows": [
        [
         "0",
         "0",
         "ticker",
         "TEXT",
         "1",
         null,
         "1"
        ],
        [
         "1",
         "1",
         "company",
         "TEXT",
         "0",
         null,
         "0"
        ],
        [
         "2",
         "2",
         "index_type",
         "TEXT",
         "0",
         null,
         "2"
        ],
        [
         "3",
         "3",
         "gics_sector",
         "TEXT",
         "0",
         null,
         "0"
        ],
        [
         "4",
         "4",
         "gics_sub_industry",
         "TEXT",
         "0",
         null,
         "0"
        ],
        [
         "5",
         "5",
         "headquarters",
         "TEXT",
         "0",
         null,
         "0"
        ],
        [
         "6",
         "6",
         "date_first_added",
         "TEXT",
         "0",
         null,
         "0"
        ],
        [
         "7",
         "7",
         "founded",
         "TEXT",
         "0",
         null,
         "0"
        ],
        [
         "8",
         "8",
         "date_added",
         "DATE",
         "1",
         "DATE('now')",
         "3"
        ]
       ],
       "shape": {
        "columns": 6,
        "rows": 9
       }
      },
      "text/html": [
       "<div>\n",
       "<style scoped>\n",
       "    .dataframe tbody tr th:only-of-type {\n",
       "        vertical-align: middle;\n",
       "    }\n",
       "\n",
       "    .dataframe tbody tr th {\n",
       "        vertical-align: top;\n",
       "    }\n",
       "\n",
       "    .dataframe thead th {\n",
       "        text-align: right;\n",
       "    }\n",
       "</style>\n",
       "<table border=\"1\" class=\"dataframe\">\n",
       "  <thead>\n",
       "    <tr style=\"text-align: right;\">\n",
       "      <th></th>\n",
       "      <th>cid</th>\n",
       "      <th>name</th>\n",
       "      <th>type</th>\n",
       "      <th>notnull</th>\n",
       "      <th>dflt_value</th>\n",
       "      <th>pk</th>\n",
       "    </tr>\n",
       "  </thead>\n",
       "  <tbody>\n",
       "    <tr>\n",
       "      <th>0</th>\n",
       "      <td>0</td>\n",
       "      <td>ticker</td>\n",
       "      <td>TEXT</td>\n",
       "      <td>1</td>\n",
       "      <td>None</td>\n",
       "      <td>1</td>\n",
       "    </tr>\n",
       "    <tr>\n",
       "      <th>1</th>\n",
       "      <td>1</td>\n",
       "      <td>company</td>\n",
       "      <td>TEXT</td>\n",
       "      <td>0</td>\n",
       "      <td>None</td>\n",
       "      <td>0</td>\n",
       "    </tr>\n",
       "    <tr>\n",
       "      <th>2</th>\n",
       "      <td>2</td>\n",
       "      <td>index_type</td>\n",
       "      <td>TEXT</td>\n",
       "      <td>0</td>\n",
       "      <td>None</td>\n",
       "      <td>2</td>\n",
       "    </tr>\n",
       "    <tr>\n",
       "      <th>3</th>\n",
       "      <td>3</td>\n",
       "      <td>gics_sector</td>\n",
       "      <td>TEXT</td>\n",
       "      <td>0</td>\n",
       "      <td>None</td>\n",
       "      <td>0</td>\n",
       "    </tr>\n",
       "    <tr>\n",
       "      <th>4</th>\n",
       "      <td>4</td>\n",
       "      <td>gics_sub_industry</td>\n",
       "      <td>TEXT</td>\n",
       "      <td>0</td>\n",
       "      <td>None</td>\n",
       "      <td>0</td>\n",
       "    </tr>\n",
       "    <tr>\n",
       "      <th>5</th>\n",
       "      <td>5</td>\n",
       "      <td>headquarters</td>\n",
       "      <td>TEXT</td>\n",
       "      <td>0</td>\n",
       "      <td>None</td>\n",
       "      <td>0</td>\n",
       "    </tr>\n",
       "    <tr>\n",
       "      <th>6</th>\n",
       "      <td>6</td>\n",
       "      <td>date_first_added</td>\n",
       "      <td>TEXT</td>\n",
       "      <td>0</td>\n",
       "      <td>None</td>\n",
       "      <td>0</td>\n",
       "    </tr>\n",
       "    <tr>\n",
       "      <th>7</th>\n",
       "      <td>7</td>\n",
       "      <td>founded</td>\n",
       "      <td>TEXT</td>\n",
       "      <td>0</td>\n",
       "      <td>None</td>\n",
       "      <td>0</td>\n",
       "    </tr>\n",
       "    <tr>\n",
       "      <th>8</th>\n",
       "      <td>8</td>\n",
       "      <td>date_added</td>\n",
       "      <td>DATE</td>\n",
       "      <td>1</td>\n",
       "      <td>DATE('now')</td>\n",
       "      <td>3</td>\n",
       "    </tr>\n",
       "  </tbody>\n",
       "</table>\n",
       "</div>"
      ],
      "text/plain": [
       "   cid               name  type  notnull   dflt_value  pk\n",
       "0    0             ticker  TEXT        1         None   1\n",
       "1    1            company  TEXT        0         None   0\n",
       "2    2         index_type  TEXT        0         None   2\n",
       "3    3        gics_sector  TEXT        0         None   0\n",
       "4    4  gics_sub_industry  TEXT        0         None   0\n",
       "5    5       headquarters  TEXT        0         None   0\n",
       "6    6   date_first_added  TEXT        0         None   0\n",
       "7    7            founded  TEXT        0         None   0\n",
       "8    8         date_added  DATE        1  DATE('now')   3"
      ]
     },
     "execution_count": 18,
     "metadata": {},
     "output_type": "execute_result"
    }
   ],
   "source": [
    "# Show column structure for each table\n",
    "def describe_table(table):\n",
    "    return pd.read_sql(f\"PRAGMA table_info({table})\", conn)\n",
    "\n",
    "describe_table(\"index_constituents\")\n"
   ]
  },
  {
   "cell_type": "markdown",
   "id": "1bf7b824",
   "metadata": {},
   "source": []
  },
  {
   "cell_type": "markdown",
   "id": "a4cbfd3d",
   "metadata": {},
   "source": [
    "## Step 4: Scrape and Insert Initial Index Constituents"
   ]
  },
  {
   "cell_type": "code",
   "execution_count": 31,
   "id": "6c5a5f47",
   "metadata": {},
   "outputs": [],
   "source": [
    "import pandas as pd\n",
    "import requests\n",
    "from io import StringIO\n",
    "\n",
    "def get_index_constituents(index=\"sp500\"):\n",
    "    if index == \"sp500\":\n",
    "        url = \"https://en.wikipedia.org/wiki/List_of_S%26P_500_companies\"\n",
    "    elif index == \"sp400\":\n",
    "        url = \"https://en.wikipedia.org/wiki/List_of_S%26P_400_companies\"\n",
    "    else:\n",
    "        raise ValueError(\"Index must be 'sp500' or 'sp400'\")\n",
    "\n",
    "    response = requests.get(url)\n",
    "    response.raise_for_status()\n",
    "    html = response.text\n",
    "\n",
    "    df = pd.read_html(StringIO(html))[0]  # <- Wrapped in StringIO now\n",
    "    df.columns = [col.lower().strip() for col in df.columns]\n",
    "\n",
    "    rename_map = {\n",
    "        \"symbol\": \"ticker\",\n",
    "        \"security\": \"company\",\n",
    "        \"gics sector\": \"gics_sector\",\n",
    "        \"gics sub-industry\": \"gics_sub_industry\",\n",
    "        \"headquarters location\": \"headquarters\",\n",
    "        \"date added\": \"date_added\",\n",
    "        \"founded\": \"founded\"\n",
    "    }\n",
    "\n",
    "    available_renames = {k: v for k, v in rename_map.items() if k in df.columns}\n",
    "    df = df.rename(columns=available_renames)\n",
    "\n",
    "    for col in [\"date_added\", \"founded\"]:\n",
    "        if col not in df.columns:\n",
    "            df[col] = None\n",
    "\n",
    "    df[\"index_type\"] = index\n",
    "    df[\"date_added\"] = pd.Timestamp.today().date()\n",
    "\n",
    "    return df.loc[:, [\n",
    "        \"ticker\", \"company\", \"index_type\", \"gics_sector\",\n",
    "        \"gics_sub_industry\", \"headquarters\", \"date_added\",\n",
    "        \"founded\"\n",
    "    ]]\n"
   ]
  },
  {
   "cell_type": "markdown",
   "id": "e01f7507",
   "metadata": {},
   "source": [
    "## Step 5: Load into SQLite"
   ]
  },
  {
   "cell_type": "code",
   "execution_count": 33,
   "id": "59778c6f",
   "metadata": {},
   "outputs": [
    {
     "data": {
      "text/plain": [
       "401"
      ]
     },
     "execution_count": 33,
     "metadata": {},
     "output_type": "execute_result"
    }
   ],
   "source": [
    "# Load and insert S&P 500 and S&P 400\n",
    "df_sp500 = get_index_constituents(\"sp500\")\n",
    "df_sp400 = get_index_constituents(\"sp400\")\n",
    "\n",
    "df_sp500.to_sql(\"index_constituents\", conn, if_exists=\"replace\", index=False)\n",
    "df_sp400.to_sql(\"index_constituents\", conn, if_exists=\"replace\", index=False)\n"
   ]
  },
  {
   "cell_type": "markdown",
   "id": "911c133b",
   "metadata": {},
   "source": []
  },
  {
   "cell_type": "markdown",
   "id": "ebd4a529",
   "metadata": {},
   "source": [
    "## Confirm it worked"
   ]
  },
  {
   "cell_type": "code",
   "execution_count": 34,
   "id": "d17abe88",
   "metadata": {},
   "outputs": [
    {
     "data": {
      "application/vnd.microsoft.datawrangler.viewer.v0+json": {
       "columns": [
        {
         "name": "index",
         "rawType": "int64",
         "type": "integer"
        },
        {
         "name": "ticker",
         "rawType": "object",
         "type": "string"
        },
        {
         "name": "company",
         "rawType": "object",
         "type": "string"
        },
        {
         "name": "index_type",
         "rawType": "object",
         "type": "string"
        },
        {
         "name": "gics_sector",
         "rawType": "object",
         "type": "string"
        },
        {
         "name": "gics_sub_industry",
         "rawType": "object",
         "type": "string"
        },
        {
         "name": "headquarters",
         "rawType": "object",
         "type": "string"
        },
        {
         "name": "date_added",
         "rawType": "object",
         "type": "string"
        },
        {
         "name": "founded",
         "rawType": "object",
         "type": "unknown"
        }
       ],
       "conversionMethod": "pd.DataFrame",
       "ref": "6e6e3032-a18e-4918-8173-82968eac1aa6",
       "rows": [
        [
         "0",
         "AA",
         "Alcoa",
         "sp400",
         "Materials",
         "Aluminum",
         "Pittsburgh, Pennsylvania",
         "2025-05-08",
         null
        ],
        [
         "1",
         "AAL",
         "American Airlines Group",
         "sp400",
         "Industrials",
         "Passenger Airlines",
         "Fort Worth, Texas",
         "2025-05-08",
         null
        ],
        [
         "2",
         "AAON",
         "AAON",
         "sp400",
         "Industrials",
         "Building Products",
         "Tulsa, Oklahoma",
         "2025-05-08",
         null
        ],
        [
         "3",
         "ACHC",
         "Acadia Healthcare",
         "sp400",
         "Health Care",
         "Health Care Facilities",
         "Franklin, Tennessee",
         "2025-05-08",
         null
        ],
        [
         "4",
         "ACI",
         "Albertsons",
         "sp400",
         "Consumer Staples",
         "Food Retail",
         "Boise, Idaho",
         "2025-05-08",
         null
        ],
        [
         "5",
         "ACM",
         "AECOM",
         "sp400",
         "Industrials",
         "Construction & Engineering",
         "Dallas, Texas",
         "2025-05-08",
         null
        ],
        [
         "6",
         "ADC",
         "Agree Realty",
         "sp400",
         "Real Estate",
         "Retail REITs",
         "Bloomfield Hills, Michigan",
         "2025-05-08",
         null
        ],
        [
         "7",
         "AFG",
         "American Financial Group",
         "sp400",
         "Financials",
         "Multi-line Insurance",
         "Cincinnati, Ohio",
         "2025-05-08",
         null
        ],
        [
         "8",
         "AGCO",
         "AGCO",
         "sp400",
         "Industrials",
         "Agricultural & Farm Machinery",
         "Duluth, Georgia",
         "2025-05-08",
         null
        ],
        [
         "9",
         "AIT",
         "Applied Industrial Technologies",
         "sp400",
         "Industrials",
         "Trading Companies & Distributors",
         "Cleveland, Ohio",
         "2025-05-08",
         null
        ]
       ],
       "shape": {
        "columns": 8,
        "rows": 10
       }
      },
      "text/html": [
       "<div>\n",
       "<style scoped>\n",
       "    .dataframe tbody tr th:only-of-type {\n",
       "        vertical-align: middle;\n",
       "    }\n",
       "\n",
       "    .dataframe tbody tr th {\n",
       "        vertical-align: top;\n",
       "    }\n",
       "\n",
       "    .dataframe thead th {\n",
       "        text-align: right;\n",
       "    }\n",
       "</style>\n",
       "<table border=\"1\" class=\"dataframe\">\n",
       "  <thead>\n",
       "    <tr style=\"text-align: right;\">\n",
       "      <th></th>\n",
       "      <th>ticker</th>\n",
       "      <th>company</th>\n",
       "      <th>index_type</th>\n",
       "      <th>gics_sector</th>\n",
       "      <th>gics_sub_industry</th>\n",
       "      <th>headquarters</th>\n",
       "      <th>date_added</th>\n",
       "      <th>founded</th>\n",
       "    </tr>\n",
       "  </thead>\n",
       "  <tbody>\n",
       "    <tr>\n",
       "      <th>0</th>\n",
       "      <td>AA</td>\n",
       "      <td>Alcoa</td>\n",
       "      <td>sp400</td>\n",
       "      <td>Materials</td>\n",
       "      <td>Aluminum</td>\n",
       "      <td>Pittsburgh, Pennsylvania</td>\n",
       "      <td>2025-05-08</td>\n",
       "      <td>None</td>\n",
       "    </tr>\n",
       "    <tr>\n",
       "      <th>1</th>\n",
       "      <td>AAL</td>\n",
       "      <td>American Airlines Group</td>\n",
       "      <td>sp400</td>\n",
       "      <td>Industrials</td>\n",
       "      <td>Passenger Airlines</td>\n",
       "      <td>Fort Worth, Texas</td>\n",
       "      <td>2025-05-08</td>\n",
       "      <td>None</td>\n",
       "    </tr>\n",
       "    <tr>\n",
       "      <th>2</th>\n",
       "      <td>AAON</td>\n",
       "      <td>AAON</td>\n",
       "      <td>sp400</td>\n",
       "      <td>Industrials</td>\n",
       "      <td>Building Products</td>\n",
       "      <td>Tulsa, Oklahoma</td>\n",
       "      <td>2025-05-08</td>\n",
       "      <td>None</td>\n",
       "    </tr>\n",
       "    <tr>\n",
       "      <th>3</th>\n",
       "      <td>ACHC</td>\n",
       "      <td>Acadia Healthcare</td>\n",
       "      <td>sp400</td>\n",
       "      <td>Health Care</td>\n",
       "      <td>Health Care Facilities</td>\n",
       "      <td>Franklin, Tennessee</td>\n",
       "      <td>2025-05-08</td>\n",
       "      <td>None</td>\n",
       "    </tr>\n",
       "    <tr>\n",
       "      <th>4</th>\n",
       "      <td>ACI</td>\n",
       "      <td>Albertsons</td>\n",
       "      <td>sp400</td>\n",
       "      <td>Consumer Staples</td>\n",
       "      <td>Food Retail</td>\n",
       "      <td>Boise, Idaho</td>\n",
       "      <td>2025-05-08</td>\n",
       "      <td>None</td>\n",
       "    </tr>\n",
       "    <tr>\n",
       "      <th>5</th>\n",
       "      <td>ACM</td>\n",
       "      <td>AECOM</td>\n",
       "      <td>sp400</td>\n",
       "      <td>Industrials</td>\n",
       "      <td>Construction &amp; Engineering</td>\n",
       "      <td>Dallas, Texas</td>\n",
       "      <td>2025-05-08</td>\n",
       "      <td>None</td>\n",
       "    </tr>\n",
       "    <tr>\n",
       "      <th>6</th>\n",
       "      <td>ADC</td>\n",
       "      <td>Agree Realty</td>\n",
       "      <td>sp400</td>\n",
       "      <td>Real Estate</td>\n",
       "      <td>Retail REITs</td>\n",
       "      <td>Bloomfield Hills, Michigan</td>\n",
       "      <td>2025-05-08</td>\n",
       "      <td>None</td>\n",
       "    </tr>\n",
       "    <tr>\n",
       "      <th>7</th>\n",
       "      <td>AFG</td>\n",
       "      <td>American Financial Group</td>\n",
       "      <td>sp400</td>\n",
       "      <td>Financials</td>\n",
       "      <td>Multi-line Insurance</td>\n",
       "      <td>Cincinnati, Ohio</td>\n",
       "      <td>2025-05-08</td>\n",
       "      <td>None</td>\n",
       "    </tr>\n",
       "    <tr>\n",
       "      <th>8</th>\n",
       "      <td>AGCO</td>\n",
       "      <td>AGCO</td>\n",
       "      <td>sp400</td>\n",
       "      <td>Industrials</td>\n",
       "      <td>Agricultural &amp; Farm Machinery</td>\n",
       "      <td>Duluth, Georgia</td>\n",
       "      <td>2025-05-08</td>\n",
       "      <td>None</td>\n",
       "    </tr>\n",
       "    <tr>\n",
       "      <th>9</th>\n",
       "      <td>AIT</td>\n",
       "      <td>Applied Industrial Technologies</td>\n",
       "      <td>sp400</td>\n",
       "      <td>Industrials</td>\n",
       "      <td>Trading Companies &amp; Distributors</td>\n",
       "      <td>Cleveland, Ohio</td>\n",
       "      <td>2025-05-08</td>\n",
       "      <td>None</td>\n",
       "    </tr>\n",
       "  </tbody>\n",
       "</table>\n",
       "</div>"
      ],
      "text/plain": [
       "  ticker                          company index_type       gics_sector  \\\n",
       "0     AA                            Alcoa      sp400         Materials   \n",
       "1    AAL          American Airlines Group      sp400       Industrials   \n",
       "2   AAON                             AAON      sp400       Industrials   \n",
       "3   ACHC                Acadia Healthcare      sp400       Health Care   \n",
       "4    ACI                       Albertsons      sp400  Consumer Staples   \n",
       "5    ACM                            AECOM      sp400       Industrials   \n",
       "6    ADC                     Agree Realty      sp400       Real Estate   \n",
       "7    AFG         American Financial Group      sp400        Financials   \n",
       "8   AGCO                             AGCO      sp400       Industrials   \n",
       "9    AIT  Applied Industrial Technologies      sp400       Industrials   \n",
       "\n",
       "                  gics_sub_industry                headquarters  date_added  \\\n",
       "0                          Aluminum    Pittsburgh, Pennsylvania  2025-05-08   \n",
       "1                Passenger Airlines           Fort Worth, Texas  2025-05-08   \n",
       "2                 Building Products             Tulsa, Oklahoma  2025-05-08   \n",
       "3            Health Care Facilities         Franklin, Tennessee  2025-05-08   \n",
       "4                       Food Retail                Boise, Idaho  2025-05-08   \n",
       "5        Construction & Engineering               Dallas, Texas  2025-05-08   \n",
       "6                      Retail REITs  Bloomfield Hills, Michigan  2025-05-08   \n",
       "7              Multi-line Insurance            Cincinnati, Ohio  2025-05-08   \n",
       "8     Agricultural & Farm Machinery             Duluth, Georgia  2025-05-08   \n",
       "9  Trading Companies & Distributors             Cleveland, Ohio  2025-05-08   \n",
       "\n",
       "  founded  \n",
       "0    None  \n",
       "1    None  \n",
       "2    None  \n",
       "3    None  \n",
       "4    None  \n",
       "5    None  \n",
       "6    None  \n",
       "7    None  \n",
       "8    None  \n",
       "9    None  "
      ]
     },
     "execution_count": 34,
     "metadata": {},
     "output_type": "execute_result"
    }
   ],
   "source": [
    "pd.read_sql(\"SELECT * FROM index_constituents ORDER BY date_added DESC LIMIT 10\", conn)\n"
   ]
  },
  {
   "cell_type": "code",
   "execution_count": null,
   "id": "d5af63f0",
   "metadata": {},
   "outputs": [],
   "source": []
  },
  {
   "cell_type": "markdown",
   "id": "27d2193a",
   "metadata": {},
   "source": [
    "## Adding Allocations"
   ]
  },
  {
   "cell_type": "code",
   "execution_count": 43,
   "id": "5527bebb",
   "metadata": {},
   "outputs": [
    {
     "name": "stdout",
     "output_type": "stream",
     "text": [
      "Saved file: spy_holdings.xlsx\n",
      "Attempting to connect to database at: /Users/zacseidel/Documents/GitHub/momentum-screener/data/market_data.sqlite\n",
      "Columns in spy_holdings.xlsx: ['Name', 'Ticker', 'Identifier', 'SEDOL', 'Weight', 'Sector', 'Shares Held', 'Local Currency']\n",
      "Stored 504 rows for sp500\n",
      "Saved file: mdy_holdings.xlsx\n",
      "Attempting to connect to database at: /Users/zacseidel/Documents/GitHub/momentum-screener/data/market_data.sqlite\n",
      "Columns in mdy_holdings.xlsx: ['Name', 'Ticker', 'Identifier', 'SEDOL', 'Weight', 'Sector', 'Shares Held', 'Local Currency']\n",
      "Stored 402 rows for sp400\n"
     ]
    }
   ],
   "source": [
    "import sys\n",
    "import os\n",
    "import importlib\n",
    "\n",
    "# Ensure project root is in the path\n",
    "project_root = os.path.abspath(\"..\")\n",
    "if project_root not in sys.path:\n",
    "    sys.path.append(project_root)\n",
    "\n",
    "# Import and reload your module\n",
    "import src.allocations\n",
    "importlib.reload(src.allocations)\n",
    "\n",
    "# Now you can call the updated function\n",
    "from src.allocations import update_index_allocations\n",
    "update_index_allocations()\n"
   ]
  },
  {
   "cell_type": "markdown",
   "id": "2c6bcdd6",
   "metadata": {},
   "source": []
  },
  {
   "cell_type": "code",
   "execution_count": null,
   "id": "ee9afcbe",
   "metadata": {},
   "outputs": [],
   "source": []
  }
 ],
 "metadata": {
  "kernelspec": {
   "display_name": ".venv",
   "language": "python",
   "name": "python3"
  },
  "language_info": {
   "codemirror_mode": {
    "name": "ipython",
    "version": 3
   },
   "file_extension": ".py",
   "mimetype": "text/x-python",
   "name": "python",
   "nbconvert_exporter": "python",
   "pygments_lexer": "ipython3",
   "version": "3.12.3"
  }
 },
 "nbformat": 4,
 "nbformat_minor": 5
}
