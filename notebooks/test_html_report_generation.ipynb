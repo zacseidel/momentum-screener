{
 "cells": [
  {
   "cell_type": "markdown",
   "id": "7e3043ac",
   "metadata": {},
   "source": [
    "\n",
    "## 📈 Momentum Screener - HTML Report Generator (Test Mode)\n",
    "This notebook lets you generate HTML reports for past Fridays and update the GitHub Pages `index.html` to preview how the report site will look.\n",
    "   "
   ]
  },
  {
   "cell_type": "code",
   "execution_count": null,
   "id": "86c9b834",
   "metadata": {},
   "outputs": [],
   "source": [
    "!/usr/local/bin/python3 -m pip install ipykernel -U --user --force-reinstall"
   ]
  },
  {
   "cell_type": "code",
   "execution_count": 1,
   "id": "8a83476b",
   "metadata": {},
   "outputs": [
    {
     "data": {
      "text/plain": [
       "True"
      ]
     },
     "execution_count": 1,
     "metadata": {},
     "output_type": "execute_result"
    }
   ],
   "source": [
    " # Setup paths and imports\n",
    "\n",
    "import sys, os\n",
    "from datetime import datetime\n",
    "import pandas as pd\n",
    "\n",
    "\n",
    "from dotenv import load_dotenv\n",
    "\n",
    "\n",
    "# Define key directories\n",
    "\n",
    "NOTEBOOK_DIR = os.getcwd()\n",
    "\n",
    "BASE_DIR = os.path.abspath(os.path.join(NOTEBOOK_DIR, \"..\"))\n",
    "SRC_DIR = os.path.join(BASE_DIR, \"src\")\n",
    "REPORT_DIR = os.path.join(BASE_DIR, \"site\", \"reports\")\n",
    "\n",
    "sys.path.insert(0, SRC_DIR)\n",
    "os.makedirs(REPORT_DIR, exist_ok=True)\n",
    "load_dotenv()"
   ]
  },
  {
   "cell_type": "code",
   "execution_count": 2,
   "id": "7ef818a8",
   "metadata": {},
   "outputs": [],
   "source": [
    "# Import screener modules\n",
    "from prices import get_target_dates, download_all_required_price_data\n",
    "from ranking import get_price_snapshots, compute_returns_and_ranks, store_top10_picks\n",
    "from report import cache_company_data\n",
    "from emailer import format_html_email"
   ]
  },
  {
   "cell_type": "code",
   "execution_count": null,
   "id": "da41b78c",
   "metadata": {},
   "outputs": [],
   "source": [
    "\n",
    "# Function to generate a single HTML report\\n\",\n",
    "def generate_html_for_date(friday_str):\n",
    "    print(f\"⏳ Generating report for {friday_str}\")\n",
    "\n",
    "    anchor = pd.Timestamp(friday_str)      \n",
    "    download_all_required_price_data(today = anchor)\n",
    "    target_dates = get_target_dates(today=anchor)\n",
    "    df, resolved = get_price_snapshots(target_dates)\n",
    "    ranks = compute_returns_and_ranks(df, resolved)\n",
    "    top10 = store_top10_picks(ranks, run_date=anchor)\n",
    "    \n",
    "    \n",
    "    if top10.empty:\n",
    "        print(\"⚠️ No top 10 results to include.\")\n",
    "        return\n",
    "\n",
    "    tickers = top10[\"ticker\"].tolist()\n",
    "    cache_company_data(tickers)\n",
    "    html_content = format_html_email(top10)\n",
    "    \n",
    "    output_path = os.path.join(REPORT_DIR, f\"momentum_{friday_str}.html\")\n",
    "    with open(output_path, \"w\", encoding=\"utf-8\") as f:\n",
    "        f.write(html_content)\n",
    "    \n",
    "    print(f\"✅ Report written: {output_path}\")"
   ]
  },
  {
   "cell_type": "code",
   "execution_count": 4,
   "id": "d2c6f319",
   "metadata": {},
   "outputs": [
    {
     "name": "stdout",
     "output_type": "stream",
     "text": [
      "⏳ Generating report for 2025-05-16\n",
      "Fetching grouped prices for 2025-05-15...\n",
      "Stored 11046 rows for 2025-05-15\n",
      "Fetching grouped prices for 2024-05-15...\n",
      "Stored 10500 rows for 2024-05-15\n",
      "Fetching grouped prices for 2025-04-15...\n",
      "Stored 10952 rows for 2025-04-15\n",
      "Fetching grouped prices for 2024-04-15...\n",
      "Stored 10495 rows for 2024-04-15\n",
      "Stored top 10 picks for 2025-05-18\n",
      "🔍 Processing PLTR (1/10)\n",
      "🔍 Processing GEV (2/10)\n",
      "🔍 Processing AXON (3/10)\n",
      "🔍 Processing TPL (4/10)\n",
      "  📰 Fetching news...\n",
      "  ⏳ Sleeping for rate limit...\n",
      "🔍 Processing TSLA (5/10)\n",
      "🔍 Processing TPR (6/10)\n",
      "  📰 Fetching news...\n",
      "  ⏳ Sleeping for rate limit...\n",
      "🔍 Processing NFLX (7/10)\n",
      "🔍 Processing NRG (8/10)\n",
      "🔍 Processing PODD (9/10)\n",
      "🔍 Processing RCL (10/10)\n",
      "✅ Report written: /Users/zacseidel/Documents/GitHub/momentum-screener/site/reports/momentum_2025-05-16.html\n",
      "⏳ Generating report for 2025-05-09\n",
      "Skipping 2025-05-08 — already in DB\n",
      "Skipping 2024-05-08 — already in DB\n",
      "Skipping 2025-04-08 — already in DB\n",
      "Skipping 2024-04-08 — already in DB\n",
      "Stored top 10 picks for 2025-05-18\n",
      "🔍 Processing PLTR (1/10)\n",
      "🔍 Processing GEV (2/10)\n",
      "🔍 Processing TPL (3/10)\n",
      "  📰 Fetching news...\n",
      "  ⏳ Sleeping for rate limit...\n",
      "🔍 Processing AXON (4/10)\n",
      "🔍 Processing TPR (5/10)\n",
      "  📰 Fetching news...\n",
      "  ⏳ Sleeping for rate limit...\n",
      "🔍 Processing NFLX (6/10)\n",
      "🔍 Processing TKO (7/10)\n",
      "  📰 Fetching news...\n",
      "  ⏳ Sleeping for rate limit...\n",
      "🔍 Processing VRSN (8/10)\n",
      "🔍 Processing FICO (9/10)\n",
      "  📰 Fetching news...\n",
      "  ⏳ Sleeping for rate limit...\n",
      "🔍 Processing RCL (10/10)\n",
      "✅ Report written: /Users/zacseidel/Documents/GitHub/momentum-screener/site/reports/momentum_2025-05-09.html\n",
      "⏳ Generating report for 2025-05-02\n",
      "Fetching grouped prices for 2025-05-01...\n",
      "Stored 11003 rows for 2025-05-01\n",
      "Fetching grouped prices for 2024-05-01...\n",
      "Stored 10406 rows for 2024-05-01\n",
      "Fetching grouped prices for 2025-04-01...\n",
      "Stored 10991 rows for 2025-04-01\n",
      "Fetching grouped prices for 2024-04-01...\n",
      "Stored 10523 rows for 2024-04-01\n",
      "Stored top 10 picks for 2025-05-18\n",
      "🔍 Processing PLTR (1/10)\n",
      "🔍 Processing NFLX (2/10)\n",
      "🔍 Processing AXON (3/10)\n",
      "🔍 Processing VST (4/10)\n",
      "  ⬇️ Fetching metadata...\n",
      "  ⏳ Sleeping for rate limit...\n",
      "  📰 Fetching news...\n",
      "  ⏳ Sleeping for rate limit...\n",
      "🔍 Processing TPR (5/10)\n",
      "  📰 Fetching news...\n",
      "  ⏳ Sleeping for rate limit...\n",
      "🔍 Processing PM (6/10)\n",
      "  ⬇️ Fetching metadata...\n",
      "  ⏳ Sleeping for rate limit...\n",
      "  📰 Fetching news...\n",
      "  ⏳ Sleeping for rate limit...\n",
      "🔍 Processing FICO (7/10)\n",
      "  📰 Fetching news...\n",
      "  ⏳ Sleeping for rate limit...\n",
      "🔍 Processing WMT (8/10)\n",
      "  ⬇️ Fetching metadata...\n",
      "  ⏳ Sleeping for rate limit...\n",
      "  📰 Fetching news...\n",
      "  ⏳ Sleeping for rate limit...\n",
      "🔍 Processing TTWO (9/10)\n",
      "  ⬇️ Fetching metadata...\n",
      "  ⏳ Sleeping for rate limit...\n",
      "  📰 Fetching news...\n",
      "  ⏳ Sleeping for rate limit...\n",
      "🔍 Processing FTNT (10/10)\n",
      "  ⬇️ Fetching metadata...\n",
      "  ⏳ Sleeping for rate limit...\n",
      "  📰 Fetching news...\n",
      "  ⏳ Sleeping for rate limit...\n",
      "✅ Report written: /Users/zacseidel/Documents/GitHub/momentum-screener/site/reports/momentum_2025-05-02.html\n"
     ]
    }
   ],
   "source": [
    "# Example: Generate reports for 3 recent Fridays\n",
    "generate_html_for_date(\"2025-05-16\")\n",
    "generate_html_for_date(\"2025-05-09\")\n",
    "generate_html_for_date(\"2025-05-02\")"
   ]
  },
  {
   "cell_type": "code",
   "execution_count": null,
   "id": "9a9d2ac2",
   "metadata": {},
   "outputs": [],
   "source": []
  },
  {
   "cell_type": "code",
   "execution_count": null,
   "id": "b322be8a",
   "metadata": {},
   "outputs": [
    {
     "name": "stdout",
     "output_type": "stream",
     "text": [
      "⏳ Generating report for 2025-04-25\n",
      "Fetching grouped prices for 2025-04-24...\n",
      "Stored 11013 rows for 2025-04-24\n",
      "Fetching grouped prices for 2024-04-24...\n",
      "Stored 10455 rows for 2024-04-24\n",
      "Fetching grouped prices for 2025-03-24...\n",
      "Stored 10972 rows for 2025-03-24\n",
      "Fetching grouped prices for 2024-03-24...\n",
      "No data for 2024-03-24 — trying previous weekday...\n",
      "Fetching grouped prices for 2024-03-22...\n",
      "Stored 10472 rows for 2024-03-22\n",
      "Stored top 10 picks for 2025-05-18\n",
      "🔍 Processing PLTR (1/10)\n",
      "🔍 Processing NFLX (2/10)\n",
      "🔍 Processing AXON (3/10)\n",
      "🔍 Processing PM (4/10)\n",
      "  📰 Fetching news...\n",
      "  ⏳ Sleeping for rate limit...\n",
      "🔍 Processing TPR (5/10)\n",
      "  📰 Fetching news...\n",
      "  ⏳ Sleeping for rate limit...\n",
      "🔍 Processing T (6/10)\n",
      "  ⬇️ Fetching metadata...\n",
      "  ⏳ Sleeping for rate limit...\n",
      "  📰 Fetching news...\n",
      "  ⏳ Sleeping for rate limit...\n",
      "🔍 Processing FICO (7/10)\n",
      "  📰 Fetching news...\n",
      "  ⏳ Sleeping for rate limit...\n",
      "🔍 Processing WMT (8/10)\n",
      "🔍 Processing TSLA (9/10)\n",
      "🔍 Processing TMUS (10/10)\n",
      "  ⬇️ Fetching metadata...\n",
      "  ⏳ Sleeping for rate limit...\n",
      "  📰 Fetching news...\n",
      "  ⏳ Sleeping for rate limit...\n",
      "✅ Report written: /Users/zacseidel/Documents/GitHub/momentum-screener/site/reports/momentum_2025-04-25.html\n",
      "⏳ Generating report for 2025-04-18\n",
      "Skipping 2025-04-17 — already in DB\n",
      "Skipping 2024-04-17 — already in DB\n",
      "Fetching grouped prices for 2025-03-17...\n",
      "Stored 10972 rows for 2025-03-17\n",
      "Fetching grouped prices for 2024-03-17...\n",
      "No data for 2024-03-17 — trying previous weekday...\n",
      "Fetching grouped prices for 2024-03-15...\n",
      "Stored 10474 rows for 2024-03-15\n",
      "Stored top 10 picks for 2025-05-18\n",
      "🔍 Processing PLTR (1/10)\n",
      "🔍 Processing HWM (2/10)\n",
      "  ⬇️ Fetching metadata...\n",
      "  ⏳ Sleeping for rate limit...\n",
      "  📰 Fetching news...\n",
      "  ⏳ Sleeping for rate limit...\n",
      "🔍 Processing GL (3/10)\n",
      "  ⬇️ Fetching metadata...\n",
      "  ⏳ Sleeping for rate limit...\n",
      "  📰 Fetching news...\n",
      "  ⏳ Sleeping for rate limit...\n",
      "🔍 Processing AXON (4/10)\n",
      "🔍 Processing PM (5/10)\n",
      "  📰 Fetching news...\n",
      "  ⏳ Sleeping for rate limit...\n",
      "🔍 Processing T (6/10)\n",
      "🔍 Processing FICO (7/10)\n",
      "  📰 Fetching news...\n",
      "  ⏳ Sleeping for rate limit...\n",
      "🔍 Processing WELL (8/10)\n",
      "  ⬇️ Fetching metadata...\n",
      "  ⏳ Sleeping for rate limit...\n",
      "  📰 Fetching news...\n",
      "  ⏳ Sleeping for rate limit...\n",
      "🔍 Processing TMUS (9/10)\n",
      "🔍 Processing ETR (10/10)\n",
      "  ⬇️ Fetching metadata...\n",
      "  ⏳ Sleeping for rate limit...\n",
      "  📰 Fetching news...\n",
      "  ⏳ Sleeping for rate limit...\n",
      "✅ Report written: /Users/zacseidel/Documents/GitHub/momentum-screener/site/reports/momentum_2025-04-18.html\n",
      "⏳ Generating report for 2025-04-11\n",
      "Fetching grouped prices for 2025-04-10...\n"
     ]
    }
   ],
   "source": [
    "\n",
    "generate_html_for_date(\"2025-04-25\")\n",
    "generate_html_for_date(\"2025-04-18\")\n",
    "generate_html_for_date(\"2025-04-11\")\n",
    "generate_html_for_date(\"2025-04-04\")\n",
    "generate_html_for_date(\"2025-03-28\")\n",
    "generate_html_for_date(\"2025-03-21\")"
   ]
  },
  {
   "cell_type": "code",
   "execution_count": 8,
   "id": "009d029a",
   "metadata": {},
   "outputs": [
    {
     "name": "stdout",
     "output_type": "stream",
     "text": [
      "✅ Sidebar index written to /Users/zacseidel/Documents/GitHub/momentum-screener/site/index.html\n"
     ]
    },
    {
     "data": {
      "text/plain": [
       "CompletedProcess(args=['python', '/Users/zacseidel/Documents/GitHub/momentum-screener/scripts/generate_index.py'], returncode=0)"
      ]
     },
     "execution_count": 8,
     "metadata": {},
     "output_type": "execute_result"
    }
   ],
   "source": [
    "#Run the generate_index.py script to create site/index.html\\n\",\n",
    "\n",
    "import subprocess\n",
    "\n",
    "SCRIPT_PATH = os.path.join(BASE_DIR, \"scripts\", \"generate_index.py\")\n",
    "                           \n",
    "subprocess.run([\"python\", SCRIPT_PATH])"
   ]
  },
  {
   "cell_type": "code",
   "execution_count": null,
   "id": "a1a18c88",
   "metadata": {},
   "outputs": [],
   "source": []
  }
 ],
 "metadata": {
  "kernelspec": {
   "display_name": "base",
   "language": "python",
   "name": "python3"
  },
  "language_info": {
   "codemirror_mode": {
    "name": "ipython",
    "version": 3
   },
   "file_extension": ".py",
   "mimetype": "text/x-python",
   "name": "python",
   "nbconvert_exporter": "python",
   "pygments_lexer": "ipython3",
   "version": "3.9.12"
  }
 },
 "nbformat": 4,
 "nbformat_minor": 5
}
