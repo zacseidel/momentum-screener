{
 "cells": [
  {
   "cell_type": "code",
   "execution_count": null,
   "id": "6a9841f2",
   "metadata": {},
   "outputs": [],
   "source": []
  },
  {
   "cell_type": "markdown",
   "id": "1e6a26e8",
   "metadata": {},
   "source": [
    "## Step 1: Initialize the Database\n"
   ]
  },
  {
   "cell_type": "markdown",
   "id": "0de2dacb",
   "metadata": {},
   "source": []
  },
  {
   "cell_type": "code",
   "execution_count": 91,
   "id": "606b6089",
   "metadata": {},
   "outputs": [
    {
     "name": "stdout",
     "output_type": "stream",
     "text": [
      "✅ Database initialized at: /Users/zacseidel/Documents/GitHub/momentum-screener/data/market_data.sqlite\n"
     ]
    }
   ],
   "source": [
    "# Run init_db.py to create the SQLite schema\n",
    "\n",
    "!python ../init_db.py  # Adjust the path if needed\n"
   ]
  },
  {
   "cell_type": "markdown",
   "id": "aa88e5ee",
   "metadata": {},
   "source": [
    "## Step 2: Connect and Inspect Tables"
   ]
  },
  {
   "cell_type": "code",
   "execution_count": 92,
   "id": "7758bc50",
   "metadata": {},
   "outputs": [
    {
     "data": {
      "application/vnd.microsoft.datawrangler.viewer.v0+json": {
       "columns": [
        {
         "name": "index",
         "rawType": "int64",
         "type": "integer"
        },
        {
         "name": "name",
         "rawType": "object",
         "type": "string"
        }
       ],
       "conversionMethod": "pd.DataFrame",
       "ref": "27bccbce-1e50-44f9-9466-108faf9bf8f2",
       "rows": [
        [
         "0",
         "index_constituents"
        ],
        [
         "1",
         "index_allocations"
        ],
        [
         "2",
         "daily_prices"
        ],
        [
         "3",
         "top10_picks"
        ]
       ],
       "shape": {
        "columns": 1,
        "rows": 4
       }
      },
      "text/html": [
       "<div>\n",
       "<style scoped>\n",
       "    .dataframe tbody tr th:only-of-type {\n",
       "        vertical-align: middle;\n",
       "    }\n",
       "\n",
       "    .dataframe tbody tr th {\n",
       "        vertical-align: top;\n",
       "    }\n",
       "\n",
       "    .dataframe thead th {\n",
       "        text-align: right;\n",
       "    }\n",
       "</style>\n",
       "<table border=\"1\" class=\"dataframe\">\n",
       "  <thead>\n",
       "    <tr style=\"text-align: right;\">\n",
       "      <th></th>\n",
       "      <th>name</th>\n",
       "    </tr>\n",
       "  </thead>\n",
       "  <tbody>\n",
       "    <tr>\n",
       "      <th>0</th>\n",
       "      <td>index_constituents</td>\n",
       "    </tr>\n",
       "    <tr>\n",
       "      <th>1</th>\n",
       "      <td>index_allocations</td>\n",
       "    </tr>\n",
       "    <tr>\n",
       "      <th>2</th>\n",
       "      <td>daily_prices</td>\n",
       "    </tr>\n",
       "    <tr>\n",
       "      <th>3</th>\n",
       "      <td>top10_picks</td>\n",
       "    </tr>\n",
       "  </tbody>\n",
       "</table>\n",
       "</div>"
      ],
      "text/plain": [
       "                 name\n",
       "0  index_constituents\n",
       "1   index_allocations\n",
       "2        daily_prices\n",
       "3         top10_picks"
      ]
     },
     "execution_count": 92,
     "metadata": {},
     "output_type": "execute_result"
    }
   ],
   "source": [
    "import sqlite3\n",
    "import pandas as pd\n",
    "\n",
    "conn = sqlite3.connect(\"../data/market_data.sqlite\")\n",
    "\n",
    "# Check that all tables exist\n",
    "pd.read_sql(\"SELECT name FROM sqlite_master WHERE type='table'\", conn)\n"
   ]
  },
  {
   "cell_type": "markdown",
   "id": "c3a84819",
   "metadata": {},
   "source": [
    "## Step 3 Preview the Table Schemas"
   ]
  },
  {
   "cell_type": "code",
   "execution_count": 95,
   "id": "94980997",
   "metadata": {},
   "outputs": [
    {
     "data": {
      "application/vnd.microsoft.datawrangler.viewer.v0+json": {
       "columns": [
        {
         "name": "index",
         "rawType": "int64",
         "type": "integer"
        },
        {
         "name": "cid",
         "rawType": "int64",
         "type": "integer"
        },
        {
         "name": "name",
         "rawType": "object",
         "type": "string"
        },
        {
         "name": "type",
         "rawType": "object",
         "type": "string"
        },
        {
         "name": "notnull",
         "rawType": "int64",
         "type": "integer"
        },
        {
         "name": "dflt_value",
         "rawType": "object",
         "type": "unknown"
        },
        {
         "name": "pk",
         "rawType": "int64",
         "type": "integer"
        }
       ],
       "conversionMethod": "pd.DataFrame",
       "ref": "a8c689f1-1c06-425e-9a5d-99ac821a73f7",
       "rows": [
        [
         "0",
         "0",
         "ticker",
         "TEXT",
         "1",
         null,
         "1"
        ],
        [
         "1",
         "1",
         "date",
         "DATE",
         "1",
         null,
         "2"
        ],
        [
         "2",
         "2",
         "current_return",
         "TEXT",
         "0",
         null,
         "0"
        ],
        [
         "3",
         "3",
         "last_month_return",
         "TEXT",
         "0",
         null,
         "0"
        ],
        [
         "4",
         "4",
         "current_rank",
         "REAL",
         "0",
         null,
         "0"
        ],
        [
         "5",
         "5",
         "last_month_rank",
         "REAL",
         "0",
         null,
         "0"
        ],
        [
         "6",
         "6",
         "rank_change",
         "REAL",
         "0",
         null,
         "0"
        ]
       ],
       "shape": {
        "columns": 6,
        "rows": 7
       }
      },
      "text/html": [
       "<div>\n",
       "<style scoped>\n",
       "    .dataframe tbody tr th:only-of-type {\n",
       "        vertical-align: middle;\n",
       "    }\n",
       "\n",
       "    .dataframe tbody tr th {\n",
       "        vertical-align: top;\n",
       "    }\n",
       "\n",
       "    .dataframe thead th {\n",
       "        text-align: right;\n",
       "    }\n",
       "</style>\n",
       "<table border=\"1\" class=\"dataframe\">\n",
       "  <thead>\n",
       "    <tr style=\"text-align: right;\">\n",
       "      <th></th>\n",
       "      <th>cid</th>\n",
       "      <th>name</th>\n",
       "      <th>type</th>\n",
       "      <th>notnull</th>\n",
       "      <th>dflt_value</th>\n",
       "      <th>pk</th>\n",
       "    </tr>\n",
       "  </thead>\n",
       "  <tbody>\n",
       "    <tr>\n",
       "      <th>0</th>\n",
       "      <td>0</td>\n",
       "      <td>ticker</td>\n",
       "      <td>TEXT</td>\n",
       "      <td>1</td>\n",
       "      <td>None</td>\n",
       "      <td>1</td>\n",
       "    </tr>\n",
       "    <tr>\n",
       "      <th>1</th>\n",
       "      <td>1</td>\n",
       "      <td>date</td>\n",
       "      <td>DATE</td>\n",
       "      <td>1</td>\n",
       "      <td>None</td>\n",
       "      <td>2</td>\n",
       "    </tr>\n",
       "    <tr>\n",
       "      <th>2</th>\n",
       "      <td>2</td>\n",
       "      <td>current_return</td>\n",
       "      <td>TEXT</td>\n",
       "      <td>0</td>\n",
       "      <td>None</td>\n",
       "      <td>0</td>\n",
       "    </tr>\n",
       "    <tr>\n",
       "      <th>3</th>\n",
       "      <td>3</td>\n",
       "      <td>last_month_return</td>\n",
       "      <td>TEXT</td>\n",
       "      <td>0</td>\n",
       "      <td>None</td>\n",
       "      <td>0</td>\n",
       "    </tr>\n",
       "    <tr>\n",
       "      <th>4</th>\n",
       "      <td>4</td>\n",
       "      <td>current_rank</td>\n",
       "      <td>REAL</td>\n",
       "      <td>0</td>\n",
       "      <td>None</td>\n",
       "      <td>0</td>\n",
       "    </tr>\n",
       "    <tr>\n",
       "      <th>5</th>\n",
       "      <td>5</td>\n",
       "      <td>last_month_rank</td>\n",
       "      <td>REAL</td>\n",
       "      <td>0</td>\n",
       "      <td>None</td>\n",
       "      <td>0</td>\n",
       "    </tr>\n",
       "    <tr>\n",
       "      <th>6</th>\n",
       "      <td>6</td>\n",
       "      <td>rank_change</td>\n",
       "      <td>REAL</td>\n",
       "      <td>0</td>\n",
       "      <td>None</td>\n",
       "      <td>0</td>\n",
       "    </tr>\n",
       "  </tbody>\n",
       "</table>\n",
       "</div>"
      ],
      "text/plain": [
       "   cid               name  type  notnull dflt_value  pk\n",
       "0    0             ticker  TEXT        1       None   1\n",
       "1    1               date  DATE        1       None   2\n",
       "2    2     current_return  TEXT        0       None   0\n",
       "3    3  last_month_return  TEXT        0       None   0\n",
       "4    4       current_rank  REAL        0       None   0\n",
       "5    5    last_month_rank  REAL        0       None   0\n",
       "6    6        rank_change  REAL        0       None   0"
      ]
     },
     "execution_count": 95,
     "metadata": {},
     "output_type": "execute_result"
    }
   ],
   "source": [
    "# Show column structure for each table\n",
    "def describe_table(table):\n",
    "    return pd.read_sql(f\"PRAGMA table_info({table})\", conn)\n",
    "\n",
    "#describe_table(\"index_constituents\")\n",
    "describe_table(\"top10_picks\")\n"
   ]
  },
  {
   "cell_type": "markdown",
   "id": "1bf7b824",
   "metadata": {},
   "source": []
  },
  {
   "cell_type": "markdown",
   "id": "a4cbfd3d",
   "metadata": {},
   "source": [
    "## Step 4: Scrape and Insert Initial Index Constituents"
   ]
  },
  {
   "cell_type": "code",
   "execution_count": 96,
   "id": "6c5a5f47",
   "metadata": {},
   "outputs": [],
   "source": [
    "import pandas as pd\n",
    "import requests\n",
    "from io import StringIO\n",
    "\n",
    "def get_index_constituents(index=\"sp500\"):\n",
    "    if index == \"sp500\":\n",
    "        url = \"https://en.wikipedia.org/wiki/List_of_S%26P_500_companies\"\n",
    "    elif index == \"sp400\":\n",
    "        url = \"https://en.wikipedia.org/wiki/List_of_S%26P_400_companies\"\n",
    "    else:\n",
    "        raise ValueError(\"Index must be 'sp500' or 'sp400'\")\n",
    "\n",
    "    response = requests.get(url)\n",
    "    response.raise_for_status()\n",
    "    html = response.text\n",
    "\n",
    "    df = pd.read_html(StringIO(html))[0]  # <- Wrapped in StringIO now\n",
    "    df.head()\n",
    "    df.columns = [col.lower().strip() for col in df.columns]\n",
    "\n",
    "    rename_map = {\n",
    "        \"symbol\": \"ticker\",\n",
    "        \"security\": \"company\",\n",
    "        \"gics sector\": \"gics_sector\",\n",
    "        \"gics sub-industry\": \"gics_sub_industry\",\n",
    "        \"headquarters location\": \"headquarters\",\n",
    "        \"date added\": \"date_added\",\n",
    "        \"founded\": \"founded\"\n",
    "    }\n",
    "\n",
    "    available_renames = {k: v for k, v in rename_map.items() if k in df.columns}\n",
    "    df = df.rename(columns=available_renames)\n",
    "\n",
    "    for col in [\"date_added\", \"founded\"]:\n",
    "        if col not in df.columns:\n",
    "            df[col] = None\n",
    "\n",
    "    df[\"index_type\"] = index\n",
    "    df[\"date_added\"] = pd.Timestamp.today().date()\n",
    "\n",
    "    df.head()\n",
    "\n",
    "    return df.loc[:, [\n",
    "        \"ticker\", \"company\", \"index_type\", \"gics_sector\",\n",
    "        \"gics_sub_industry\", \"headquarters\", \"date_added\",\n",
    "        \"founded\"\n",
    "    ]]\n"
   ]
  },
  {
   "cell_type": "markdown",
   "id": "e01f7507",
   "metadata": {},
   "source": [
    "## Step 5: Load into SQLite"
   ]
  },
  {
   "cell_type": "code",
   "execution_count": 99,
   "id": "fb9ee5ea",
   "metadata": {},
   "outputs": [
    {
     "data": {
      "application/vnd.microsoft.datawrangler.viewer.v0+json": {
       "columns": [
        {
         "name": "index",
         "rawType": "int64",
         "type": "integer"
        },
        {
         "name": "ticker",
         "rawType": "object",
         "type": "string"
        },
        {
         "name": "company",
         "rawType": "object",
         "type": "string"
        },
        {
         "name": "index_type",
         "rawType": "object",
         "type": "string"
        },
        {
         "name": "gics_sector",
         "rawType": "object",
         "type": "string"
        },
        {
         "name": "gics_sub_industry",
         "rawType": "object",
         "type": "string"
        },
        {
         "name": "headquarters",
         "rawType": "object",
         "type": "string"
        },
        {
         "name": "date_added",
         "rawType": "object",
         "type": "unknown"
        },
        {
         "name": "founded",
         "rawType": "object",
         "type": "string"
        }
       ],
       "conversionMethod": "pd.DataFrame",
       "ref": "21c94585-d343-4e21-824d-6ffcbe54947e",
       "rows": [
        [
         "0",
         "MMM",
         "3M",
         "sp500",
         "Industrials",
         "Industrial Conglomerates",
         "Saint Paul, Minnesota",
         "2025-05-09",
         "1902"
        ],
        [
         "1",
         "AOS",
         "A. O. Smith",
         "sp500",
         "Industrials",
         "Building Products",
         "Milwaukee, Wisconsin",
         "2025-05-09",
         "1916"
        ],
        [
         "2",
         "ABT",
         "Abbott Laboratories",
         "sp500",
         "Health Care",
         "Health Care Equipment",
         "North Chicago, Illinois",
         "2025-05-09",
         "1888"
        ],
        [
         "3",
         "ABBV",
         "AbbVie",
         "sp500",
         "Health Care",
         "Biotechnology",
         "North Chicago, Illinois",
         "2025-05-09",
         "2013 (1888)"
        ],
        [
         "4",
         "ACN",
         "Accenture",
         "sp500",
         "Information Technology",
         "IT Consulting & Other Services",
         "Dublin, Ireland",
         "2025-05-09",
         "1989"
        ]
       ],
       "shape": {
        "columns": 8,
        "rows": 5
       }
      },
      "text/html": [
       "<div>\n",
       "<style scoped>\n",
       "    .dataframe tbody tr th:only-of-type {\n",
       "        vertical-align: middle;\n",
       "    }\n",
       "\n",
       "    .dataframe tbody tr th {\n",
       "        vertical-align: top;\n",
       "    }\n",
       "\n",
       "    .dataframe thead th {\n",
       "        text-align: right;\n",
       "    }\n",
       "</style>\n",
       "<table border=\"1\" class=\"dataframe\">\n",
       "  <thead>\n",
       "    <tr style=\"text-align: right;\">\n",
       "      <th></th>\n",
       "      <th>ticker</th>\n",
       "      <th>company</th>\n",
       "      <th>index_type</th>\n",
       "      <th>gics_sector</th>\n",
       "      <th>gics_sub_industry</th>\n",
       "      <th>headquarters</th>\n",
       "      <th>date_added</th>\n",
       "      <th>founded</th>\n",
       "    </tr>\n",
       "  </thead>\n",
       "  <tbody>\n",
       "    <tr>\n",
       "      <th>0</th>\n",
       "      <td>MMM</td>\n",
       "      <td>3M</td>\n",
       "      <td>sp500</td>\n",
       "      <td>Industrials</td>\n",
       "      <td>Industrial Conglomerates</td>\n",
       "      <td>Saint Paul, Minnesota</td>\n",
       "      <td>2025-05-09</td>\n",
       "      <td>1902</td>\n",
       "    </tr>\n",
       "    <tr>\n",
       "      <th>1</th>\n",
       "      <td>AOS</td>\n",
       "      <td>A. O. Smith</td>\n",
       "      <td>sp500</td>\n",
       "      <td>Industrials</td>\n",
       "      <td>Building Products</td>\n",
       "      <td>Milwaukee, Wisconsin</td>\n",
       "      <td>2025-05-09</td>\n",
       "      <td>1916</td>\n",
       "    </tr>\n",
       "    <tr>\n",
       "      <th>2</th>\n",
       "      <td>ABT</td>\n",
       "      <td>Abbott Laboratories</td>\n",
       "      <td>sp500</td>\n",
       "      <td>Health Care</td>\n",
       "      <td>Health Care Equipment</td>\n",
       "      <td>North Chicago, Illinois</td>\n",
       "      <td>2025-05-09</td>\n",
       "      <td>1888</td>\n",
       "    </tr>\n",
       "    <tr>\n",
       "      <th>3</th>\n",
       "      <td>ABBV</td>\n",
       "      <td>AbbVie</td>\n",
       "      <td>sp500</td>\n",
       "      <td>Health Care</td>\n",
       "      <td>Biotechnology</td>\n",
       "      <td>North Chicago, Illinois</td>\n",
       "      <td>2025-05-09</td>\n",
       "      <td>2013 (1888)</td>\n",
       "    </tr>\n",
       "    <tr>\n",
       "      <th>4</th>\n",
       "      <td>ACN</td>\n",
       "      <td>Accenture</td>\n",
       "      <td>sp500</td>\n",
       "      <td>Information Technology</td>\n",
       "      <td>IT Consulting &amp; Other Services</td>\n",
       "      <td>Dublin, Ireland</td>\n",
       "      <td>2025-05-09</td>\n",
       "      <td>1989</td>\n",
       "    </tr>\n",
       "  </tbody>\n",
       "</table>\n",
       "</div>"
      ],
      "text/plain": [
       "  ticker              company index_type             gics_sector  \\\n",
       "0    MMM                   3M      sp500             Industrials   \n",
       "1    AOS          A. O. Smith      sp500             Industrials   \n",
       "2    ABT  Abbott Laboratories      sp500             Health Care   \n",
       "3   ABBV               AbbVie      sp500             Health Care   \n",
       "4    ACN            Accenture      sp500  Information Technology   \n",
       "\n",
       "                gics_sub_industry             headquarters  date_added  \\\n",
       "0        Industrial Conglomerates    Saint Paul, Minnesota  2025-05-09   \n",
       "1               Building Products     Milwaukee, Wisconsin  2025-05-09   \n",
       "2           Health Care Equipment  North Chicago, Illinois  2025-05-09   \n",
       "3                   Biotechnology  North Chicago, Illinois  2025-05-09   \n",
       "4  IT Consulting & Other Services          Dublin, Ireland  2025-05-09   \n",
       "\n",
       "       founded  \n",
       "0         1902  \n",
       "1         1916  \n",
       "2         1888  \n",
       "3  2013 (1888)  \n",
       "4         1989  "
      ]
     },
     "execution_count": 99,
     "metadata": {},
     "output_type": "execute_result"
    }
   ],
   "source": [
    "df_sp500 = get_index_constituents(\"sp500\")\n",
    "df_sp500.head()\n",
    "\n",
    "#df_sp400 = get_index_constituents(\"sp400\")\n",
    "#df_sp400.head()\n"
   ]
  },
  {
   "cell_type": "code",
   "execution_count": 102,
   "id": "b75bacb7",
   "metadata": {},
   "outputs": [
    {
     "data": {
      "text/plain": [
       "503"
      ]
     },
     "execution_count": 102,
     "metadata": {},
     "output_type": "execute_result"
    }
   ],
   "source": [
    "df_sp500.to_sql(\"index_constituents\", conn, if_exists=\"replace\", index=False)\n"
   ]
  },
  {
   "cell_type": "code",
   "execution_count": 101,
   "id": "59778c6f",
   "metadata": {},
   "outputs": [
    {
     "data": {
      "text/plain": [
       "401"
      ]
     },
     "execution_count": 101,
     "metadata": {},
     "output_type": "execute_result"
    }
   ],
   "source": [
    "# Load and insert S&P 500 and S&P 400\n",
    "df_sp500 = get_index_constituents(\"sp500\")\n",
    "df_sp400 = get_index_constituents(\"sp400\")\n",
    "\n",
    "df_sp500.to_sql(\"index_constituents\", conn, if_exists=\"replace\", index=False)\n",
    "df_sp400.to_sql(\"index_constituents\", conn, if_exists=\"replace\", index=False)\n"
   ]
  },
  {
   "cell_type": "markdown",
   "id": "911c133b",
   "metadata": {},
   "source": []
  },
  {
   "cell_type": "markdown",
   "id": "ebd4a529",
   "metadata": {},
   "source": [
    "## Confirm it worked"
   ]
  },
  {
   "cell_type": "code",
   "execution_count": 103,
   "id": "d17abe88",
   "metadata": {},
   "outputs": [
    {
     "data": {
      "application/vnd.microsoft.datawrangler.viewer.v0+json": {
       "columns": [
        {
         "name": "index",
         "rawType": "int64",
         "type": "integer"
        },
        {
         "name": "ticker",
         "rawType": "object",
         "type": "string"
        },
        {
         "name": "company",
         "rawType": "object",
         "type": "string"
        },
        {
         "name": "index_type",
         "rawType": "object",
         "type": "string"
        },
        {
         "name": "gics_sector",
         "rawType": "object",
         "type": "string"
        },
        {
         "name": "gics_sub_industry",
         "rawType": "object",
         "type": "string"
        },
        {
         "name": "headquarters",
         "rawType": "object",
         "type": "string"
        },
        {
         "name": "date_added",
         "rawType": "object",
         "type": "string"
        },
        {
         "name": "founded",
         "rawType": "object",
         "type": "string"
        }
       ],
       "conversionMethod": "pd.DataFrame",
       "ref": "9e0d808f-8400-4297-88b9-511e5d15cbdd",
       "rows": [
        [
         "0",
         "MMM",
         "3M",
         "sp500",
         "Industrials",
         "Industrial Conglomerates",
         "Saint Paul, Minnesota",
         "2025-05-09",
         "1902"
        ],
        [
         "1",
         "AOS",
         "A. O. Smith",
         "sp500",
         "Industrials",
         "Building Products",
         "Milwaukee, Wisconsin",
         "2025-05-09",
         "1916"
        ],
        [
         "2",
         "ABT",
         "Abbott Laboratories",
         "sp500",
         "Health Care",
         "Health Care Equipment",
         "North Chicago, Illinois",
         "2025-05-09",
         "1888"
        ],
        [
         "3",
         "ABBV",
         "AbbVie",
         "sp500",
         "Health Care",
         "Biotechnology",
         "North Chicago, Illinois",
         "2025-05-09",
         "2013 (1888)"
        ],
        [
         "4",
         "ACN",
         "Accenture",
         "sp500",
         "Information Technology",
         "IT Consulting & Other Services",
         "Dublin, Ireland",
         "2025-05-09",
         "1989"
        ],
        [
         "5",
         "ADBE",
         "Adobe Inc.",
         "sp500",
         "Information Technology",
         "Application Software",
         "San Jose, California",
         "2025-05-09",
         "1982"
        ],
        [
         "6",
         "AMD",
         "Advanced Micro Devices",
         "sp500",
         "Information Technology",
         "Semiconductors",
         "Santa Clara, California",
         "2025-05-09",
         "1969"
        ],
        [
         "7",
         "AES",
         "AES Corporation",
         "sp500",
         "Utilities",
         "Independent Power Producers & Energy Traders",
         "Arlington, Virginia",
         "2025-05-09",
         "1981"
        ],
        [
         "8",
         "AFL",
         "Aflac",
         "sp500",
         "Financials",
         "Life & Health Insurance",
         "Columbus, Georgia",
         "2025-05-09",
         "1955"
        ],
        [
         "9",
         "A",
         "Agilent Technologies",
         "sp500",
         "Health Care",
         "Life Sciences Tools & Services",
         "Santa Clara, California",
         "2025-05-09",
         "1999"
        ]
       ],
       "shape": {
        "columns": 8,
        "rows": 10
       }
      },
      "text/html": [
       "<div>\n",
       "<style scoped>\n",
       "    .dataframe tbody tr th:only-of-type {\n",
       "        vertical-align: middle;\n",
       "    }\n",
       "\n",
       "    .dataframe tbody tr th {\n",
       "        vertical-align: top;\n",
       "    }\n",
       "\n",
       "    .dataframe thead th {\n",
       "        text-align: right;\n",
       "    }\n",
       "</style>\n",
       "<table border=\"1\" class=\"dataframe\">\n",
       "  <thead>\n",
       "    <tr style=\"text-align: right;\">\n",
       "      <th></th>\n",
       "      <th>ticker</th>\n",
       "      <th>company</th>\n",
       "      <th>index_type</th>\n",
       "      <th>gics_sector</th>\n",
       "      <th>gics_sub_industry</th>\n",
       "      <th>headquarters</th>\n",
       "      <th>date_added</th>\n",
       "      <th>founded</th>\n",
       "    </tr>\n",
       "  </thead>\n",
       "  <tbody>\n",
       "    <tr>\n",
       "      <th>0</th>\n",
       "      <td>MMM</td>\n",
       "      <td>3M</td>\n",
       "      <td>sp500</td>\n",
       "      <td>Industrials</td>\n",
       "      <td>Industrial Conglomerates</td>\n",
       "      <td>Saint Paul, Minnesota</td>\n",
       "      <td>2025-05-09</td>\n",
       "      <td>1902</td>\n",
       "    </tr>\n",
       "    <tr>\n",
       "      <th>1</th>\n",
       "      <td>AOS</td>\n",
       "      <td>A. O. Smith</td>\n",
       "      <td>sp500</td>\n",
       "      <td>Industrials</td>\n",
       "      <td>Building Products</td>\n",
       "      <td>Milwaukee, Wisconsin</td>\n",
       "      <td>2025-05-09</td>\n",
       "      <td>1916</td>\n",
       "    </tr>\n",
       "    <tr>\n",
       "      <th>2</th>\n",
       "      <td>ABT</td>\n",
       "      <td>Abbott Laboratories</td>\n",
       "      <td>sp500</td>\n",
       "      <td>Health Care</td>\n",
       "      <td>Health Care Equipment</td>\n",
       "      <td>North Chicago, Illinois</td>\n",
       "      <td>2025-05-09</td>\n",
       "      <td>1888</td>\n",
       "    </tr>\n",
       "    <tr>\n",
       "      <th>3</th>\n",
       "      <td>ABBV</td>\n",
       "      <td>AbbVie</td>\n",
       "      <td>sp500</td>\n",
       "      <td>Health Care</td>\n",
       "      <td>Biotechnology</td>\n",
       "      <td>North Chicago, Illinois</td>\n",
       "      <td>2025-05-09</td>\n",
       "      <td>2013 (1888)</td>\n",
       "    </tr>\n",
       "    <tr>\n",
       "      <th>4</th>\n",
       "      <td>ACN</td>\n",
       "      <td>Accenture</td>\n",
       "      <td>sp500</td>\n",
       "      <td>Information Technology</td>\n",
       "      <td>IT Consulting &amp; Other Services</td>\n",
       "      <td>Dublin, Ireland</td>\n",
       "      <td>2025-05-09</td>\n",
       "      <td>1989</td>\n",
       "    </tr>\n",
       "    <tr>\n",
       "      <th>5</th>\n",
       "      <td>ADBE</td>\n",
       "      <td>Adobe Inc.</td>\n",
       "      <td>sp500</td>\n",
       "      <td>Information Technology</td>\n",
       "      <td>Application Software</td>\n",
       "      <td>San Jose, California</td>\n",
       "      <td>2025-05-09</td>\n",
       "      <td>1982</td>\n",
       "    </tr>\n",
       "    <tr>\n",
       "      <th>6</th>\n",
       "      <td>AMD</td>\n",
       "      <td>Advanced Micro Devices</td>\n",
       "      <td>sp500</td>\n",
       "      <td>Information Technology</td>\n",
       "      <td>Semiconductors</td>\n",
       "      <td>Santa Clara, California</td>\n",
       "      <td>2025-05-09</td>\n",
       "      <td>1969</td>\n",
       "    </tr>\n",
       "    <tr>\n",
       "      <th>7</th>\n",
       "      <td>AES</td>\n",
       "      <td>AES Corporation</td>\n",
       "      <td>sp500</td>\n",
       "      <td>Utilities</td>\n",
       "      <td>Independent Power Producers &amp; Energy Traders</td>\n",
       "      <td>Arlington, Virginia</td>\n",
       "      <td>2025-05-09</td>\n",
       "      <td>1981</td>\n",
       "    </tr>\n",
       "    <tr>\n",
       "      <th>8</th>\n",
       "      <td>AFL</td>\n",
       "      <td>Aflac</td>\n",
       "      <td>sp500</td>\n",
       "      <td>Financials</td>\n",
       "      <td>Life &amp; Health Insurance</td>\n",
       "      <td>Columbus, Georgia</td>\n",
       "      <td>2025-05-09</td>\n",
       "      <td>1955</td>\n",
       "    </tr>\n",
       "    <tr>\n",
       "      <th>9</th>\n",
       "      <td>A</td>\n",
       "      <td>Agilent Technologies</td>\n",
       "      <td>sp500</td>\n",
       "      <td>Health Care</td>\n",
       "      <td>Life Sciences Tools &amp; Services</td>\n",
       "      <td>Santa Clara, California</td>\n",
       "      <td>2025-05-09</td>\n",
       "      <td>1999</td>\n",
       "    </tr>\n",
       "  </tbody>\n",
       "</table>\n",
       "</div>"
      ],
      "text/plain": [
       "  ticker                 company index_type             gics_sector  \\\n",
       "0    MMM                      3M      sp500             Industrials   \n",
       "1    AOS             A. O. Smith      sp500             Industrials   \n",
       "2    ABT     Abbott Laboratories      sp500             Health Care   \n",
       "3   ABBV                  AbbVie      sp500             Health Care   \n",
       "4    ACN               Accenture      sp500  Information Technology   \n",
       "5   ADBE              Adobe Inc.      sp500  Information Technology   \n",
       "6    AMD  Advanced Micro Devices      sp500  Information Technology   \n",
       "7    AES         AES Corporation      sp500               Utilities   \n",
       "8    AFL                   Aflac      sp500              Financials   \n",
       "9      A    Agilent Technologies      sp500             Health Care   \n",
       "\n",
       "                              gics_sub_industry             headquarters  \\\n",
       "0                      Industrial Conglomerates    Saint Paul, Minnesota   \n",
       "1                             Building Products     Milwaukee, Wisconsin   \n",
       "2                         Health Care Equipment  North Chicago, Illinois   \n",
       "3                                 Biotechnology  North Chicago, Illinois   \n",
       "4                IT Consulting & Other Services          Dublin, Ireland   \n",
       "5                          Application Software     San Jose, California   \n",
       "6                                Semiconductors  Santa Clara, California   \n",
       "7  Independent Power Producers & Energy Traders      Arlington, Virginia   \n",
       "8                       Life & Health Insurance        Columbus, Georgia   \n",
       "9                Life Sciences Tools & Services  Santa Clara, California   \n",
       "\n",
       "   date_added      founded  \n",
       "0  2025-05-09         1902  \n",
       "1  2025-05-09         1916  \n",
       "2  2025-05-09         1888  \n",
       "3  2025-05-09  2013 (1888)  \n",
       "4  2025-05-09         1989  \n",
       "5  2025-05-09         1982  \n",
       "6  2025-05-09         1969  \n",
       "7  2025-05-09         1981  \n",
       "8  2025-05-09         1955  \n",
       "9  2025-05-09         1999  "
      ]
     },
     "execution_count": 103,
     "metadata": {},
     "output_type": "execute_result"
    }
   ],
   "source": [
    "pd.read_sql(\"SELECT * FROM index_constituents WHERE index_type = 'sp500' ORDER BY date_added DESC LIMIT 10\", conn)\n"
   ]
  },
  {
   "cell_type": "code",
   "execution_count": null,
   "id": "d5af63f0",
   "metadata": {},
   "outputs": [],
   "source": []
  },
  {
   "cell_type": "markdown",
   "id": "27d2193a",
   "metadata": {},
   "source": [
    "## Adding Allocations"
   ]
  },
  {
   "cell_type": "code",
   "execution_count": 104,
   "id": "5527bebb",
   "metadata": {},
   "outputs": [
    {
     "name": "stdout",
     "output_type": "stream",
     "text": [
      "Saved file: spy_holdings.xlsx\n",
      "Attempting to connect to database at: /Users/zacseidel/Documents/GitHub/momentum-screener/data/market_data.sqlite\n",
      "Columns in spy_holdings.xlsx: ['Name', 'Ticker', 'Identifier', 'SEDOL', 'Weight', 'Sector', 'Shares Held', 'Local Currency']\n",
      "Stored 504 rows for sp500\n",
      "Saved file: mdy_holdings.xlsx\n",
      "Attempting to connect to database at: /Users/zacseidel/Documents/GitHub/momentum-screener/data/market_data.sqlite\n",
      "Columns in mdy_holdings.xlsx: ['Name', 'Ticker', 'Identifier', 'SEDOL', 'Weight', 'Sector', 'Shares Held', 'Local Currency']\n",
      "Stored 402 rows for sp400\n"
     ]
    }
   ],
   "source": [
    "import sys\n",
    "import os\n",
    "import importlib\n",
    "\n",
    "# Ensure project root is in the path\n",
    "project_root = os.path.abspath(\"..\")\n",
    "if project_root not in sys.path:\n",
    "    sys.path.append(project_root)\n",
    "\n",
    "# Import and reload your module\n",
    "import src.allocations\n",
    "importlib.reload(src.allocations)\n",
    "\n",
    "# Now you can call the updated function\n",
    "from src.allocations import update_index_allocations\n",
    "update_index_allocations()\n"
   ]
  },
  {
   "cell_type": "markdown",
   "id": "2c6bcdd6",
   "metadata": {},
   "source": []
  },
  {
   "cell_type": "code",
   "execution_count": null,
   "id": "ee9afcbe",
   "metadata": {},
   "outputs": [],
   "source": []
  },
  {
   "cell_type": "markdown",
   "id": "7a540122",
   "metadata": {},
   "source": [
    "## Test Prices"
   ]
  },
  {
   "cell_type": "code",
   "execution_count": 48,
   "id": "a6424da5",
   "metadata": {},
   "outputs": [
    {
     "name": "stdout",
     "output_type": "stream",
     "text": [
      "Collecting python-dotenv\n",
      "  Downloading python_dotenv-1.1.0-py3-none-any.whl.metadata (24 kB)\n",
      "Downloading python_dotenv-1.1.0-py3-none-any.whl (20 kB)\n",
      "Installing collected packages: python-dotenv\n",
      "Successfully installed python-dotenv-1.1.0\n",
      "\n",
      "\u001b[1m[\u001b[0m\u001b[34;49mnotice\u001b[0m\u001b[1;39;49m]\u001b[0m\u001b[39;49m A new release of pip is available: \u001b[0m\u001b[31;49m24.2\u001b[0m\u001b[39;49m -> \u001b[0m\u001b[32;49m25.1.1\u001b[0m\n",
      "\u001b[1m[\u001b[0m\u001b[34;49mnotice\u001b[0m\u001b[1;39;49m]\u001b[0m\u001b[39;49m To update, run: \u001b[0m\u001b[32;49mpip install --upgrade pip\u001b[0m\n"
     ]
    }
   ],
   "source": [
    "\n",
    "!pip install python-dotenv\n",
    "\n"
   ]
  },
  {
   "cell_type": "code",
   "execution_count": 105,
   "id": "4ad60f69",
   "metadata": {},
   "outputs": [
    {
     "name": "stdout",
     "output_type": "stream",
     "text": [
      "Fetching grouped prices for 2025-05-08...\n",
      "Stored 11028 rows for 2025-05-08\n",
      "Fetching grouped prices for 2024-05-08...\n",
      "Stored 10453 rows for 2024-05-08\n",
      "Fetching grouped prices for 2025-04-08...\n",
      "Stored 11029 rows for 2025-04-08\n",
      "Fetching grouped prices for 2024-04-08...\n",
      "Stored 10499 rows for 2024-04-08\n"
     ]
    }
   ],
   "source": [
    "import sys, os\n",
    "sys.path.append(\"..\")\n",
    "\n",
    "from src import prices\n",
    "import importlib\n",
    "importlib.reload(prices)\n",
    "\n",
    "prices.download_all_required_price_data()\n"
   ]
  },
  {
   "cell_type": "code",
   "execution_count": 106,
   "id": "611e4585",
   "metadata": {},
   "outputs": [
    {
     "data": {
      "application/vnd.microsoft.datawrangler.viewer.v0+json": {
       "columns": [
        {
         "name": "index",
         "rawType": "int64",
         "type": "integer"
        },
        {
         "name": "ticker",
         "rawType": "object",
         "type": "string"
        },
        {
         "name": "date",
         "rawType": "object",
         "type": "string"
        },
        {
         "name": "close",
         "rawType": "float64",
         "type": "float"
        }
       ],
       "conversionMethod": "pd.DataFrame",
       "ref": "10555695-a796-4212-9b71-a5fff304fd83",
       "rows": [
        [
         "0",
         "THO",
         "2025-05-08",
         "76.26"
        ],
        [
         "1",
         "ARES",
         "2025-05-08",
         "165.85"
        ],
        [
         "2",
         "GNTY",
         "2025-05-08",
         "40.84"
        ],
        [
         "3",
         "NESR",
         "2025-05-08",
         "6.22"
        ],
        [
         "4",
         "AMTD",
         "2025-05-08",
         "1.0"
        ],
        [
         "5",
         "ULTA",
         "2025-05-08",
         "388.24"
        ],
        [
         "6",
         "GURU",
         "2025-05-08",
         "49.78"
        ],
        [
         "7",
         "DOCN",
         "2025-05-08",
         "29.89"
        ],
        [
         "8",
         "GHY",
         "2025-05-08",
         "12.7"
        ],
        [
         "9",
         "PSMT",
         "2025-05-08",
         "105.8"
        ]
       ],
       "shape": {
        "columns": 3,
        "rows": 10
       }
      },
      "text/html": [
       "<div>\n",
       "<style scoped>\n",
       "    .dataframe tbody tr th:only-of-type {\n",
       "        vertical-align: middle;\n",
       "    }\n",
       "\n",
       "    .dataframe tbody tr th {\n",
       "        vertical-align: top;\n",
       "    }\n",
       "\n",
       "    .dataframe thead th {\n",
       "        text-align: right;\n",
       "    }\n",
       "</style>\n",
       "<table border=\"1\" class=\"dataframe\">\n",
       "  <thead>\n",
       "    <tr style=\"text-align: right;\">\n",
       "      <th></th>\n",
       "      <th>ticker</th>\n",
       "      <th>date</th>\n",
       "      <th>close</th>\n",
       "    </tr>\n",
       "  </thead>\n",
       "  <tbody>\n",
       "    <tr>\n",
       "      <th>0</th>\n",
       "      <td>THO</td>\n",
       "      <td>2025-05-08</td>\n",
       "      <td>76.26</td>\n",
       "    </tr>\n",
       "    <tr>\n",
       "      <th>1</th>\n",
       "      <td>ARES</td>\n",
       "      <td>2025-05-08</td>\n",
       "      <td>165.85</td>\n",
       "    </tr>\n",
       "    <tr>\n",
       "      <th>2</th>\n",
       "      <td>GNTY</td>\n",
       "      <td>2025-05-08</td>\n",
       "      <td>40.84</td>\n",
       "    </tr>\n",
       "    <tr>\n",
       "      <th>3</th>\n",
       "      <td>NESR</td>\n",
       "      <td>2025-05-08</td>\n",
       "      <td>6.22</td>\n",
       "    </tr>\n",
       "    <tr>\n",
       "      <th>4</th>\n",
       "      <td>AMTD</td>\n",
       "      <td>2025-05-08</td>\n",
       "      <td>1.00</td>\n",
       "    </tr>\n",
       "    <tr>\n",
       "      <th>5</th>\n",
       "      <td>ULTA</td>\n",
       "      <td>2025-05-08</td>\n",
       "      <td>388.24</td>\n",
       "    </tr>\n",
       "    <tr>\n",
       "      <th>6</th>\n",
       "      <td>GURU</td>\n",
       "      <td>2025-05-08</td>\n",
       "      <td>49.78</td>\n",
       "    </tr>\n",
       "    <tr>\n",
       "      <th>7</th>\n",
       "      <td>DOCN</td>\n",
       "      <td>2025-05-08</td>\n",
       "      <td>29.89</td>\n",
       "    </tr>\n",
       "    <tr>\n",
       "      <th>8</th>\n",
       "      <td>GHY</td>\n",
       "      <td>2025-05-08</td>\n",
       "      <td>12.70</td>\n",
       "    </tr>\n",
       "    <tr>\n",
       "      <th>9</th>\n",
       "      <td>PSMT</td>\n",
       "      <td>2025-05-08</td>\n",
       "      <td>105.80</td>\n",
       "    </tr>\n",
       "  </tbody>\n",
       "</table>\n",
       "</div>"
      ],
      "text/plain": [
       "  ticker        date   close\n",
       "0    THO  2025-05-08   76.26\n",
       "1   ARES  2025-05-08  165.85\n",
       "2   GNTY  2025-05-08   40.84\n",
       "3   NESR  2025-05-08    6.22\n",
       "4   AMTD  2025-05-08    1.00\n",
       "5   ULTA  2025-05-08  388.24\n",
       "6   GURU  2025-05-08   49.78\n",
       "7   DOCN  2025-05-08   29.89\n",
       "8    GHY  2025-05-08   12.70\n",
       "9   PSMT  2025-05-08  105.80"
      ]
     },
     "execution_count": 106,
     "metadata": {},
     "output_type": "execute_result"
    }
   ],
   "source": [
    "import sqlite3\n",
    "conn = sqlite3.connect(\"../data/market_data.sqlite\")\n",
    "pd.read_sql(\"SELECT * FROM daily_prices ORDER BY date DESC LIMIT 10\", conn)\n"
   ]
  },
  {
   "cell_type": "markdown",
   "id": "72fe9c7f",
   "metadata": {},
   "source": [
    "## Test Ranking"
   ]
  },
  {
   "cell_type": "code",
   "execution_count": 117,
   "id": "d611532f",
   "metadata": {},
   "outputs": [
    {
     "name": "stdout",
     "output_type": "stream",
     "text": [
      "{'yesterday': '2025-05-08', 'one_year_ago': '2024-05-08', 'one_month_ago': '2025-04-08', 'one_year_plus_month_ago': '2024-04-08'}\n"
     ]
    },
    {
     "data": {
      "application/vnd.microsoft.datawrangler.viewer.v0+json": {
       "columns": [
        {
         "name": "ticker",
         "rawType": "object",
         "type": "string"
        },
        {
         "name": "current_return",
         "rawType": "object",
         "type": "string"
        },
        {
         "name": "last_month_return",
         "rawType": "object",
         "type": "string"
        },
        {
         "name": "current_rank",
         "rawType": "float64",
         "type": "float"
        },
        {
         "name": "last_month_rank",
         "rawType": "float64",
         "type": "float"
        },
        {
         "name": "rank_change",
         "rawType": "float64",
         "type": "float"
        }
       ],
       "conversionMethod": "pd.DataFrame",
       "ref": "cf63f358-f017-4b4a-9ab7-69b6862723da",
       "rows": [
        [
         "PLTR",
         "452.6%",
         "236.2%",
         "1.0",
         "1.0",
         "0.0"
        ],
        [
         "GEV",
         "140.2%",
         "120.8%",
         "2.0",
         "2.0",
         "0.0"
        ],
        [
         "TPL",
         "128.5%",
         "93.0%",
         "3.0",
         "3.0",
         "0.0"
        ],
        [
         "AXON",
         "120.2%",
         "62.0%",
         "4.0",
         "6.0",
         "2.0"
        ],
        [
         "TPR",
         "98.9%",
         "40.5%",
         "5.0",
         "18.0",
         "13.0"
        ],
        [
         "NFLX",
         "87.8%",
         "38.5%",
         "7.0",
         "20.0",
         "13.0"
        ],
        [
         "TKO",
         "71.9%",
         "44.9%",
         "9.0",
         "16.0",
         "7.0"
        ],
        [
         "VRSN",
         "69.2%",
         "25.8%",
         "10.0",
         "46.0",
         "36.0"
        ],
        [
         "FICO",
         "68.3%",
         "35.4%",
         "11.0",
         "26.0",
         "15.0"
        ],
        [
         "RCL",
         "64.3%",
         "30.3%",
         "12.0",
         "31.0",
         "19.0"
        ],
        [
         "FTNT",
         "63.9%",
         "28.9%",
         "13.0",
         "35.0",
         "22.0"
        ],
        [
         "TSLA",
         "63.0%",
         "28.3%",
         "14.0",
         "37.0",
         "23.0"
        ],
        [
         "DASH",
         "61.9%",
         "20.6%",
         "15.0",
         "61.0",
         "46.0"
        ],
        [
         "WMT",
         "61.6%",
         "36.8%",
         "16.0",
         "25.0",
         "9.0"
        ],
        [
         "FFIV",
         "59.0%",
         "26.0%",
         "18.0",
         "44.0",
         "26.0"
        ],
        [
         "NRG",
         "58.7%",
         "16.4%",
         "19.0",
         "87.0",
         "68.0"
        ],
        [
         "VST",
         "58.0%",
         "37.3%",
         "20.0",
         "23.0",
         "3.0"
        ],
        [
         "AVGO",
         "56.8%",
         "16.8%",
         "21.0",
         "84.0",
         "63.0"
        ],
        [
         "DFS",
         "55.4%",
         "17.9%",
         "22.0",
         "76.0",
         "54.0"
        ],
        [
         "TTWO",
         "54.4%",
         "27.7%",
         "23.0",
         "39.0",
         "16.0"
        ]
       ],
       "shape": {
        "columns": 5,
        "rows": 20
       }
      },
      "text/html": [
       "<div>\n",
       "<style scoped>\n",
       "    .dataframe tbody tr th:only-of-type {\n",
       "        vertical-align: middle;\n",
       "    }\n",
       "\n",
       "    .dataframe tbody tr th {\n",
       "        vertical-align: top;\n",
       "    }\n",
       "\n",
       "    .dataframe thead th {\n",
       "        text-align: right;\n",
       "    }\n",
       "</style>\n",
       "<table border=\"1\" class=\"dataframe\">\n",
       "  <thead>\n",
       "    <tr style=\"text-align: right;\">\n",
       "      <th></th>\n",
       "      <th>current_return</th>\n",
       "      <th>last_month_return</th>\n",
       "      <th>current_rank</th>\n",
       "      <th>last_month_rank</th>\n",
       "      <th>rank_change</th>\n",
       "    </tr>\n",
       "    <tr>\n",
       "      <th>ticker</th>\n",
       "      <th></th>\n",
       "      <th></th>\n",
       "      <th></th>\n",
       "      <th></th>\n",
       "      <th></th>\n",
       "    </tr>\n",
       "  </thead>\n",
       "  <tbody>\n",
       "    <tr>\n",
       "      <th>PLTR</th>\n",
       "      <td>452.6%</td>\n",
       "      <td>236.2%</td>\n",
       "      <td>1.0</td>\n",
       "      <td>1.0</td>\n",
       "      <td>0.0</td>\n",
       "    </tr>\n",
       "    <tr>\n",
       "      <th>GEV</th>\n",
       "      <td>140.2%</td>\n",
       "      <td>120.8%</td>\n",
       "      <td>2.0</td>\n",
       "      <td>2.0</td>\n",
       "      <td>0.0</td>\n",
       "    </tr>\n",
       "    <tr>\n",
       "      <th>TPL</th>\n",
       "      <td>128.5%</td>\n",
       "      <td>93.0%</td>\n",
       "      <td>3.0</td>\n",
       "      <td>3.0</td>\n",
       "      <td>0.0</td>\n",
       "    </tr>\n",
       "    <tr>\n",
       "      <th>AXON</th>\n",
       "      <td>120.2%</td>\n",
       "      <td>62.0%</td>\n",
       "      <td>4.0</td>\n",
       "      <td>6.0</td>\n",
       "      <td>2.0</td>\n",
       "    </tr>\n",
       "    <tr>\n",
       "      <th>TPR</th>\n",
       "      <td>98.9%</td>\n",
       "      <td>40.5%</td>\n",
       "      <td>5.0</td>\n",
       "      <td>18.0</td>\n",
       "      <td>13.0</td>\n",
       "    </tr>\n",
       "    <tr>\n",
       "      <th>NFLX</th>\n",
       "      <td>87.8%</td>\n",
       "      <td>38.5%</td>\n",
       "      <td>7.0</td>\n",
       "      <td>20.0</td>\n",
       "      <td>13.0</td>\n",
       "    </tr>\n",
       "    <tr>\n",
       "      <th>TKO</th>\n",
       "      <td>71.9%</td>\n",
       "      <td>44.9%</td>\n",
       "      <td>9.0</td>\n",
       "      <td>16.0</td>\n",
       "      <td>7.0</td>\n",
       "    </tr>\n",
       "    <tr>\n",
       "      <th>VRSN</th>\n",
       "      <td>69.2%</td>\n",
       "      <td>25.8%</td>\n",
       "      <td>10.0</td>\n",
       "      <td>46.0</td>\n",
       "      <td>36.0</td>\n",
       "    </tr>\n",
       "    <tr>\n",
       "      <th>FICO</th>\n",
       "      <td>68.3%</td>\n",
       "      <td>35.4%</td>\n",
       "      <td>11.0</td>\n",
       "      <td>26.0</td>\n",
       "      <td>15.0</td>\n",
       "    </tr>\n",
       "    <tr>\n",
       "      <th>RCL</th>\n",
       "      <td>64.3%</td>\n",
       "      <td>30.3%</td>\n",
       "      <td>12.0</td>\n",
       "      <td>31.0</td>\n",
       "      <td>19.0</td>\n",
       "    </tr>\n",
       "    <tr>\n",
       "      <th>FTNT</th>\n",
       "      <td>63.9%</td>\n",
       "      <td>28.9%</td>\n",
       "      <td>13.0</td>\n",
       "      <td>35.0</td>\n",
       "      <td>22.0</td>\n",
       "    </tr>\n",
       "    <tr>\n",
       "      <th>TSLA</th>\n",
       "      <td>63.0%</td>\n",
       "      <td>28.3%</td>\n",
       "      <td>14.0</td>\n",
       "      <td>37.0</td>\n",
       "      <td>23.0</td>\n",
       "    </tr>\n",
       "    <tr>\n",
       "      <th>DASH</th>\n",
       "      <td>61.9%</td>\n",
       "      <td>20.6%</td>\n",
       "      <td>15.0</td>\n",
       "      <td>61.0</td>\n",
       "      <td>46.0</td>\n",
       "    </tr>\n",
       "    <tr>\n",
       "      <th>WMT</th>\n",
       "      <td>61.6%</td>\n",
       "      <td>36.8%</td>\n",
       "      <td>16.0</td>\n",
       "      <td>25.0</td>\n",
       "      <td>9.0</td>\n",
       "    </tr>\n",
       "    <tr>\n",
       "      <th>FFIV</th>\n",
       "      <td>59.0%</td>\n",
       "      <td>26.0%</td>\n",
       "      <td>18.0</td>\n",
       "      <td>44.0</td>\n",
       "      <td>26.0</td>\n",
       "    </tr>\n",
       "    <tr>\n",
       "      <th>NRG</th>\n",
       "      <td>58.7%</td>\n",
       "      <td>16.4%</td>\n",
       "      <td>19.0</td>\n",
       "      <td>87.0</td>\n",
       "      <td>68.0</td>\n",
       "    </tr>\n",
       "    <tr>\n",
       "      <th>VST</th>\n",
       "      <td>58.0%</td>\n",
       "      <td>37.3%</td>\n",
       "      <td>20.0</td>\n",
       "      <td>23.0</td>\n",
       "      <td>3.0</td>\n",
       "    </tr>\n",
       "    <tr>\n",
       "      <th>AVGO</th>\n",
       "      <td>56.8%</td>\n",
       "      <td>16.8%</td>\n",
       "      <td>21.0</td>\n",
       "      <td>84.0</td>\n",
       "      <td>63.0</td>\n",
       "    </tr>\n",
       "    <tr>\n",
       "      <th>DFS</th>\n",
       "      <td>55.4%</td>\n",
       "      <td>17.9%</td>\n",
       "      <td>22.0</td>\n",
       "      <td>76.0</td>\n",
       "      <td>54.0</td>\n",
       "    </tr>\n",
       "    <tr>\n",
       "      <th>TTWO</th>\n",
       "      <td>54.4%</td>\n",
       "      <td>27.7%</td>\n",
       "      <td>23.0</td>\n",
       "      <td>39.0</td>\n",
       "      <td>16.0</td>\n",
       "    </tr>\n",
       "  </tbody>\n",
       "</table>\n",
       "</div>"
      ],
      "text/plain": [
       "       current_return last_month_return  current_rank  last_month_rank  \\\n",
       "ticker                                                                   \n",
       "PLTR           452.6%            236.2%           1.0              1.0   \n",
       "GEV            140.2%            120.8%           2.0              2.0   \n",
       "TPL            128.5%             93.0%           3.0              3.0   \n",
       "AXON           120.2%             62.0%           4.0              6.0   \n",
       "TPR             98.9%             40.5%           5.0             18.0   \n",
       "NFLX            87.8%             38.5%           7.0             20.0   \n",
       "TKO             71.9%             44.9%           9.0             16.0   \n",
       "VRSN            69.2%             25.8%          10.0             46.0   \n",
       "FICO            68.3%             35.4%          11.0             26.0   \n",
       "RCL             64.3%             30.3%          12.0             31.0   \n",
       "FTNT            63.9%             28.9%          13.0             35.0   \n",
       "TSLA            63.0%             28.3%          14.0             37.0   \n",
       "DASH            61.9%             20.6%          15.0             61.0   \n",
       "WMT             61.6%             36.8%          16.0             25.0   \n",
       "FFIV            59.0%             26.0%          18.0             44.0   \n",
       "NRG             58.7%             16.4%          19.0             87.0   \n",
       "VST             58.0%             37.3%          20.0             23.0   \n",
       "AVGO            56.8%             16.8%          21.0             84.0   \n",
       "DFS             55.4%             17.9%          22.0             76.0   \n",
       "TTWO            54.4%             27.7%          23.0             39.0   \n",
       "\n",
       "        rank_change  \n",
       "ticker               \n",
       "PLTR            0.0  \n",
       "GEV             0.0  \n",
       "TPL             0.0  \n",
       "AXON            2.0  \n",
       "TPR            13.0  \n",
       "NFLX           13.0  \n",
       "TKO             7.0  \n",
       "VRSN           36.0  \n",
       "FICO           15.0  \n",
       "RCL            19.0  \n",
       "FTNT           22.0  \n",
       "TSLA           23.0  \n",
       "DASH           46.0  \n",
       "WMT             9.0  \n",
       "FFIV           26.0  \n",
       "NRG            68.0  \n",
       "VST             3.0  \n",
       "AVGO           63.0  \n",
       "DFS            54.0  \n",
       "TTWO           16.0  "
      ]
     },
     "execution_count": 117,
     "metadata": {},
     "output_type": "execute_result"
    }
   ],
   "source": [
    "import sys, os, importlib\n",
    "sys.path.append(\"..\")  # if not already in sys.path\n",
    "\n",
    "from src import ranking\n",
    "importlib.reload(ranking)  # ← this forces Python to reload the module\n",
    "\n",
    "# Now import your functions again\n",
    "from src.ranking import get_price_snapshots, compute_returns_and_ranks, store_top10_picks\n",
    "\n",
    "\n",
    "dates = get_target_dates()\n",
    "print(dates)\n",
    "df, resolved_dates = get_price_snapshots(dates)\n",
    "\n",
    "ranks = compute_returns_and_ranks(df, resolved_dates)\n",
    "\n",
    "ranks.head(20)          # See values\n",
    "\n",
    "\n",
    "\n",
    "\n"
   ]
  },
  {
   "cell_type": "code",
   "execution_count": 118,
   "id": "fae738f5",
   "metadata": {},
   "outputs": [
    {
     "data": {
      "application/vnd.microsoft.datawrangler.viewer.v0+json": {
       "columns": [
        {
         "name": "ticker",
         "rawType": "object",
         "type": "string"
        },
        {
         "name": "current_return",
         "rawType": "object",
         "type": "string"
        },
        {
         "name": "last_month_return",
         "rawType": "object",
         "type": "string"
        },
        {
         "name": "current_rank",
         "rawType": "float64",
         "type": "float"
        },
        {
         "name": "last_month_rank",
         "rawType": "float64",
         "type": "float"
        },
        {
         "name": "rank_change",
         "rawType": "float64",
         "type": "float"
        }
       ],
       "conversionMethod": "pd.DataFrame",
       "ref": "62fddbf9-f6f3-4879-ad68-5bd73e3759ec",
       "rows": [
        [
         "PLTR",
         "452.6%",
         "236.2%",
         "1.0",
         "1.0",
         "0.0"
        ],
        [
         "GEV",
         "140.2%",
         "120.8%",
         "2.0",
         "2.0",
         "0.0"
        ],
        [
         "TPL",
         "128.5%",
         "93.0%",
         "3.0",
         "3.0",
         "0.0"
        ],
        [
         "AXON",
         "120.2%",
         "62.0%",
         "4.0",
         "6.0",
         "2.0"
        ],
        [
         "TPR",
         "98.9%",
         "40.5%",
         "5.0",
         "18.0",
         "13.0"
        ],
        [
         "NFLX",
         "87.8%",
         "38.5%",
         "7.0",
         "20.0",
         "13.0"
        ],
        [
         "TKO",
         "71.9%",
         "44.9%",
         "9.0",
         "16.0",
         "7.0"
        ],
        [
         "VRSN",
         "69.2%",
         "25.8%",
         "10.0",
         "46.0",
         "36.0"
        ],
        [
         "FICO",
         "68.3%",
         "35.4%",
         "11.0",
         "26.0",
         "15.0"
        ],
        [
         "RCL",
         "64.3%",
         "30.3%",
         "12.0",
         "31.0",
         "19.0"
        ],
        [
         "FTNT",
         "63.9%",
         "28.9%",
         "13.0",
         "35.0",
         "22.0"
        ],
        [
         "TSLA",
         "63.0%",
         "28.3%",
         "14.0",
         "37.0",
         "23.0"
        ],
        [
         "DASH",
         "61.9%",
         "20.6%",
         "15.0",
         "61.0",
         "46.0"
        ],
        [
         "WMT",
         "61.6%",
         "36.8%",
         "16.0",
         "25.0",
         "9.0"
        ],
        [
         "FFIV",
         "59.0%",
         "26.0%",
         "18.0",
         "44.0",
         "26.0"
        ],
        [
         "NRG",
         "58.7%",
         "16.4%",
         "19.0",
         "87.0",
         "68.0"
        ],
        [
         "VST",
         "58.0%",
         "37.3%",
         "20.0",
         "23.0",
         "3.0"
        ],
        [
         "AVGO",
         "56.8%",
         "16.8%",
         "21.0",
         "84.0",
         "63.0"
        ],
        [
         "DFS",
         "55.4%",
         "17.9%",
         "22.0",
         "76.0",
         "54.0"
        ],
        [
         "TTWO",
         "54.4%",
         "27.7%",
         "23.0",
         "39.0",
         "16.0"
        ],
        [
         "RL",
         "52.3%",
         "6.8%",
         "25.0",
         "135.0",
         "110.0"
        ],
        [
         "EXPE",
         "51.5%",
         "3.4%",
         "28.0",
         "160.0",
         "132.0"
        ],
        [
         "CAH",
         "51.1%",
         "14.2%",
         "30.0",
         "95.0",
         "65.0"
        ],
        [
         "IBM",
         "49.6%",
         "16.4%",
         "34.0",
         "86.0",
         "52.0"
        ],
        [
         "CHTR",
         "48.3%",
         "17.8%",
         "36.0",
         "77.0",
         "41.0"
        ],
        [
         "CBRE",
         "45.1%",
         "18.1%",
         "39.0",
         "75.0",
         "36.0"
        ],
        [
         "PAYC",
         "44.7%",
         "-4.4%",
         "41.0",
         "221.0",
         "180.0"
        ],
        [
         "EBAY",
         "42.0%",
         "15.4%",
         "45.0",
         "93.0",
         "48.0"
        ],
        [
         "GEN",
         "41.9%",
         "5.5%",
         "46.0",
         "141.0",
         "95.0"
        ],
        [
         "CCL",
         "41.6%",
         "6.6%",
         "47.0",
         "136.0",
         "89.0"
        ],
        [
         "ISRG",
         "41.5%",
         "18.3%",
         "48.0",
         "72.0",
         "24.0"
        ],
        [
         "BKNG",
         "41.1%",
         "15.6%",
         "49.0",
         "90.0",
         "41.0"
        ],
        [
         "LYV",
         "40.6%",
         "15.6%",
         "50.0",
         "91.0",
         "41.0"
        ],
        [
         "JCI",
         "39.9%",
         "9.7%",
         "51.0",
         "118.0",
         "67.0"
        ],
        [
         "WRB",
         "38.8%",
         "12.8%",
         "53.0",
         "102.0",
         "49.0"
        ],
        [
         "CRWD",
         "36.6%",
         "3.6%",
         "57.0",
         "156.0",
         "99.0"
        ],
        [
         "GL",
         "35.5%",
         "5.0%",
         "59.0",
         "145.0",
         "86.0"
        ],
        [
         "ADSK",
         "35.4%",
         "-2.9%",
         "60.0",
         "207.0",
         "147.0"
        ],
        [
         "NOW",
         "35.2%",
         "-7.4%",
         "61.0",
         "257.0",
         "196.0"
        ],
        [
         "DRI",
         "34.5%",
         "18.1%",
         "62.0",
         "74.0",
         "12.0"
        ],
        [
         "ORLY",
         "33.3%",
         "18.8%",
         "65.0",
         "70.0",
         "5.0"
        ],
        [
         "CME",
         "33.1%",
         "19.9%",
         "66.0",
         "66.0",
         "0.0"
        ],
        [
         "COF",
         "32.7%",
         "5.9%",
         "69.0",
         "139.0",
         "70.0"
        ],
        [
         "ICE",
         "32.3%",
         "10.8%",
         "71.0",
         "113.0",
         "42.0"
        ],
        [
         "NDAQ",
         "31.9%",
         "6.9%",
         "73.0",
         "134.0",
         "61.0"
        ],
        [
         "JBL",
         "31.4%",
         "-13.2%",
         "77.0",
         "299.0",
         "222.0"
        ],
        [
         "NWS",
         "30.4%",
         "3.8%",
         "78.0",
         "154.0",
         "76.0"
        ],
        [
         "CEG",
         "30.1%",
         "-3.7%",
         "79.0",
         "213.0",
         "134.0"
        ],
        [
         "NVDA",
         "29.8%",
         "10.5%",
         "81.0",
         "116.0",
         "35.0"
        ],
        [
         "JPM",
         "29.6%",
         "9.3%",
         "83.0",
         "119.0",
         "36.0"
        ]
       ],
       "shape": {
        "columns": 5,
        "rows": 252
       }
      },
      "text/html": [
       "<div>\n",
       "<style scoped>\n",
       "    .dataframe tbody tr th:only-of-type {\n",
       "        vertical-align: middle;\n",
       "    }\n",
       "\n",
       "    .dataframe tbody tr th {\n",
       "        vertical-align: top;\n",
       "    }\n",
       "\n",
       "    .dataframe thead th {\n",
       "        text-align: right;\n",
       "    }\n",
       "</style>\n",
       "<table border=\"1\" class=\"dataframe\">\n",
       "  <thead>\n",
       "    <tr style=\"text-align: right;\">\n",
       "      <th></th>\n",
       "      <th>current_return</th>\n",
       "      <th>last_month_return</th>\n",
       "      <th>current_rank</th>\n",
       "      <th>last_month_rank</th>\n",
       "      <th>rank_change</th>\n",
       "    </tr>\n",
       "    <tr>\n",
       "      <th>ticker</th>\n",
       "      <th></th>\n",
       "      <th></th>\n",
       "      <th></th>\n",
       "      <th></th>\n",
       "      <th></th>\n",
       "    </tr>\n",
       "  </thead>\n",
       "  <tbody>\n",
       "    <tr>\n",
       "      <th>PLTR</th>\n",
       "      <td>452.6%</td>\n",
       "      <td>236.2%</td>\n",
       "      <td>1.0</td>\n",
       "      <td>1.0</td>\n",
       "      <td>0.0</td>\n",
       "    </tr>\n",
       "    <tr>\n",
       "      <th>GEV</th>\n",
       "      <td>140.2%</td>\n",
       "      <td>120.8%</td>\n",
       "      <td>2.0</td>\n",
       "      <td>2.0</td>\n",
       "      <td>0.0</td>\n",
       "    </tr>\n",
       "    <tr>\n",
       "      <th>TPL</th>\n",
       "      <td>128.5%</td>\n",
       "      <td>93.0%</td>\n",
       "      <td>3.0</td>\n",
       "      <td>3.0</td>\n",
       "      <td>0.0</td>\n",
       "    </tr>\n",
       "    <tr>\n",
       "      <th>AXON</th>\n",
       "      <td>120.2%</td>\n",
       "      <td>62.0%</td>\n",
       "      <td>4.0</td>\n",
       "      <td>6.0</td>\n",
       "      <td>2.0</td>\n",
       "    </tr>\n",
       "    <tr>\n",
       "      <th>TPR</th>\n",
       "      <td>98.9%</td>\n",
       "      <td>40.5%</td>\n",
       "      <td>5.0</td>\n",
       "      <td>18.0</td>\n",
       "      <td>13.0</td>\n",
       "    </tr>\n",
       "    <tr>\n",
       "      <th>...</th>\n",
       "      <td>...</td>\n",
       "      <td>...</td>\n",
       "      <td>...</td>\n",
       "      <td>...</td>\n",
       "      <td>...</td>\n",
       "    </tr>\n",
       "    <tr>\n",
       "      <th>APA</th>\n",
       "      <td>-47.0%</td>\n",
       "      <td>-60.0%</td>\n",
       "      <td>495.0</td>\n",
       "      <td>496.0</td>\n",
       "      <td>1.0</td>\n",
       "    </tr>\n",
       "    <tr>\n",
       "      <th>EL</th>\n",
       "      <td>-52.7%</td>\n",
       "      <td>-65.6%</td>\n",
       "      <td>497.0</td>\n",
       "      <td>499.0</td>\n",
       "      <td>2.0</td>\n",
       "    </tr>\n",
       "    <tr>\n",
       "      <th>ALB</th>\n",
       "      <td>-56.0%</td>\n",
       "      <td>-61.5%</td>\n",
       "      <td>498.0</td>\n",
       "      <td>498.0</td>\n",
       "      <td>0.0</td>\n",
       "    </tr>\n",
       "    <tr>\n",
       "      <th>SMCI</th>\n",
       "      <td>-61.0%</td>\n",
       "      <td>-65.8%</td>\n",
       "      <td>500.0</td>\n",
       "      <td>500.0</td>\n",
       "      <td>0.0</td>\n",
       "    </tr>\n",
       "    <tr>\n",
       "      <th>MRNA</th>\n",
       "      <td>-80.0%</td>\n",
       "      <td>-76.6%</td>\n",
       "      <td>501.0</td>\n",
       "      <td>501.0</td>\n",
       "      <td>0.0</td>\n",
       "    </tr>\n",
       "  </tbody>\n",
       "</table>\n",
       "<p>252 rows × 5 columns</p>\n",
       "</div>"
      ],
      "text/plain": [
       "       current_return last_month_return  current_rank  last_month_rank  \\\n",
       "ticker                                                                   \n",
       "PLTR           452.6%            236.2%           1.0              1.0   \n",
       "GEV            140.2%            120.8%           2.0              2.0   \n",
       "TPL            128.5%             93.0%           3.0              3.0   \n",
       "AXON           120.2%             62.0%           4.0              6.0   \n",
       "TPR             98.9%             40.5%           5.0             18.0   \n",
       "...               ...               ...           ...              ...   \n",
       "APA            -47.0%            -60.0%         495.0            496.0   \n",
       "EL             -52.7%            -65.6%         497.0            499.0   \n",
       "ALB            -56.0%            -61.5%         498.0            498.0   \n",
       "SMCI           -61.0%            -65.8%         500.0            500.0   \n",
       "MRNA           -80.0%            -76.6%         501.0            501.0   \n",
       "\n",
       "        rank_change  \n",
       "ticker               \n",
       "PLTR            0.0  \n",
       "GEV             0.0  \n",
       "TPL             0.0  \n",
       "AXON            2.0  \n",
       "TPR            13.0  \n",
       "...             ...  \n",
       "APA             1.0  \n",
       "EL              2.0  \n",
       "ALB             0.0  \n",
       "SMCI            0.0  \n",
       "MRNA            0.0  \n",
       "\n",
       "[252 rows x 5 columns]"
      ]
     },
     "execution_count": 118,
     "metadata": {},
     "output_type": "execute_result"
    }
   ],
   "source": [
    "ranks"
   ]
  },
  {
   "cell_type": "code",
   "execution_count": 121,
   "id": "0f40bb2e",
   "metadata": {},
   "outputs": [
    {
     "name": "stdout",
     "output_type": "stream",
     "text": [
      "📅 Raw target dates:\n",
      "yesterday: 2025-05-08\n",
      "one_year_ago: 2024-05-08\n",
      "one_month_ago: 2025-04-08\n",
      "one_year_plus_month_ago: 2024-04-08\n",
      "\n",
      "📅 Resolved trading dates used:\n",
      "yesterday: 2025-05-08\n",
      "one_year_ago: 2024-05-08\n",
      "one_month_ago: 2025-04-08\n",
      "one_year_plus_month_ago: 2024-04-08\n",
      "\n",
      "🧾 Price snapshot sample:\n"
     ]
    },
    {
     "data": {
      "application/vnd.microsoft.datawrangler.viewer.v0+json": {
       "columns": [
        {
         "name": "ticker",
         "rawType": "object",
         "type": "string"
        },
        {
         "name": "2024-04-08",
         "rawType": "float64",
         "type": "float"
        },
        {
         "name": "2024-05-08",
         "rawType": "float64",
         "type": "float"
        },
        {
         "name": "2025-04-08",
         "rawType": "float64",
         "type": "float"
        },
        {
         "name": "2025-05-08",
         "rawType": "float64",
         "type": "float"
        }
       ],
       "conversionMethod": "pd.DataFrame",
       "ref": "5aac6cc5-7530-4776-a47a-f74f2b7dbe2e",
       "rows": [
        [
         "MMM",
         "91.93",
         "96.35",
         "127.16",
         "141.12"
        ],
        [
         "AOS",
         "86.97",
         "85.58",
         "59.63",
         "68.01"
        ],
        [
         "ABT",
         "110.52",
         "104.94",
         "123.95",
         "134.0"
        ],
        [
         "ABBV",
         "169.8",
         "160.45",
         "175.67",
         "185.58"
        ],
        [
         "ACN",
         "331.8",
         "311.99",
         "281.39",
         "308.88"
        ],
        [
         "ADBE",
         "484.28",
         "488.1",
         "340.0",
         "383.99"
        ],
        [
         "AMD",
         "169.9",
         "153.62",
         "78.21",
         "101.7"
        ],
        [
         "AES",
         "18.3",
         "19.37",
         "10.23",
         "10.82"
        ],
        [
         "AFL",
         "85.14",
         "84.83",
         "99.77",
         "106.3"
        ],
        [
         "A",
         "144.46",
         "142.8",
         "99.29",
         "108.7"
        ]
       ],
       "shape": {
        "columns": 4,
        "rows": 10
       }
      },
      "text/html": [
       "<div>\n",
       "<style scoped>\n",
       "    .dataframe tbody tr th:only-of-type {\n",
       "        vertical-align: middle;\n",
       "    }\n",
       "\n",
       "    .dataframe tbody tr th {\n",
       "        vertical-align: top;\n",
       "    }\n",
       "\n",
       "    .dataframe thead th {\n",
       "        text-align: right;\n",
       "    }\n",
       "</style>\n",
       "<table border=\"1\" class=\"dataframe\">\n",
       "  <thead>\n",
       "    <tr style=\"text-align: right;\">\n",
       "      <th></th>\n",
       "      <th>2024-04-08</th>\n",
       "      <th>2024-05-08</th>\n",
       "      <th>2025-04-08</th>\n",
       "      <th>2025-05-08</th>\n",
       "    </tr>\n",
       "    <tr>\n",
       "      <th>ticker</th>\n",
       "      <th></th>\n",
       "      <th></th>\n",
       "      <th></th>\n",
       "      <th></th>\n",
       "    </tr>\n",
       "  </thead>\n",
       "  <tbody>\n",
       "    <tr>\n",
       "      <th>MMM</th>\n",
       "      <td>91.93</td>\n",
       "      <td>96.35</td>\n",
       "      <td>127.16</td>\n",
       "      <td>141.12</td>\n",
       "    </tr>\n",
       "    <tr>\n",
       "      <th>AOS</th>\n",
       "      <td>86.97</td>\n",
       "      <td>85.58</td>\n",
       "      <td>59.63</td>\n",
       "      <td>68.01</td>\n",
       "    </tr>\n",
       "    <tr>\n",
       "      <th>ABT</th>\n",
       "      <td>110.52</td>\n",
       "      <td>104.94</td>\n",
       "      <td>123.95</td>\n",
       "      <td>134.00</td>\n",
       "    </tr>\n",
       "    <tr>\n",
       "      <th>ABBV</th>\n",
       "      <td>169.80</td>\n",
       "      <td>160.45</td>\n",
       "      <td>175.67</td>\n",
       "      <td>185.58</td>\n",
       "    </tr>\n",
       "    <tr>\n",
       "      <th>ACN</th>\n",
       "      <td>331.80</td>\n",
       "      <td>311.99</td>\n",
       "      <td>281.39</td>\n",
       "      <td>308.88</td>\n",
       "    </tr>\n",
       "    <tr>\n",
       "      <th>ADBE</th>\n",
       "      <td>484.28</td>\n",
       "      <td>488.10</td>\n",
       "      <td>340.00</td>\n",
       "      <td>383.99</td>\n",
       "    </tr>\n",
       "    <tr>\n",
       "      <th>AMD</th>\n",
       "      <td>169.90</td>\n",
       "      <td>153.62</td>\n",
       "      <td>78.21</td>\n",
       "      <td>101.70</td>\n",
       "    </tr>\n",
       "    <tr>\n",
       "      <th>AES</th>\n",
       "      <td>18.30</td>\n",
       "      <td>19.37</td>\n",
       "      <td>10.23</td>\n",
       "      <td>10.82</td>\n",
       "    </tr>\n",
       "    <tr>\n",
       "      <th>AFL</th>\n",
       "      <td>85.14</td>\n",
       "      <td>84.83</td>\n",
       "      <td>99.77</td>\n",
       "      <td>106.30</td>\n",
       "    </tr>\n",
       "    <tr>\n",
       "      <th>A</th>\n",
       "      <td>144.46</td>\n",
       "      <td>142.80</td>\n",
       "      <td>99.29</td>\n",
       "      <td>108.70</td>\n",
       "    </tr>\n",
       "  </tbody>\n",
       "</table>\n",
       "</div>"
      ],
      "text/plain": [
       "        2024-04-08  2024-05-08  2025-04-08  2025-05-08\n",
       "ticker                                                \n",
       "MMM          91.93       96.35      127.16      141.12\n",
       "AOS          86.97       85.58       59.63       68.01\n",
       "ABT         110.52      104.94      123.95      134.00\n",
       "ABBV        169.80      160.45      175.67      185.58\n",
       "ACN         331.80      311.99      281.39      308.88\n",
       "ADBE        484.28      488.10      340.00      383.99\n",
       "AMD         169.90      153.62       78.21      101.70\n",
       "AES          18.30       19.37       10.23       10.82\n",
       "AFL          85.14       84.83       99.77      106.30\n",
       "A           144.46      142.80       99.29      108.70"
      ]
     },
     "metadata": {},
     "output_type": "display_data"
    },
    {
     "name": "stdout",
     "output_type": "stream",
     "text": [
      "\n",
      "Shape: (503, 4) — Missing values: 4\n",
      "\n",
      "📈 Top-ranked momentum results:\n"
     ]
    },
    {
     "data": {
      "application/vnd.microsoft.datawrangler.viewer.v0+json": {
       "columns": [
        {
         "name": "ticker",
         "rawType": "object",
         "type": "string"
        },
        {
         "name": "current_return",
         "rawType": "object",
         "type": "string"
        },
        {
         "name": "last_month_return",
         "rawType": "object",
         "type": "string"
        },
        {
         "name": "current_rank",
         "rawType": "float64",
         "type": "float"
        },
        {
         "name": "last_month_rank",
         "rawType": "float64",
         "type": "float"
        },
        {
         "name": "rank_change",
         "rawType": "float64",
         "type": "float"
        }
       ],
       "conversionMethod": "pd.DataFrame",
       "ref": "2bcb3ba3-5de0-49ee-9dc9-e326f702cc63",
       "rows": [
        [
         "PLTR",
         "452.6%",
         "236.2%",
         "1.0",
         "1.0",
         "0.0"
        ],
        [
         "GEV",
         "140.2%",
         "120.8%",
         "2.0",
         "2.0",
         "0.0"
        ],
        [
         "TPL",
         "128.5%",
         "93.0%",
         "3.0",
         "3.0",
         "0.0"
        ],
        [
         "AXON",
         "120.2%",
         "62.0%",
         "4.0",
         "6.0",
         "2.0"
        ],
        [
         "TPR",
         "98.9%",
         "40.5%",
         "5.0",
         "18.0",
         "13.0"
        ],
        [
         "NFLX",
         "87.8%",
         "38.5%",
         "7.0",
         "20.0",
         "13.0"
        ],
        [
         "TKO",
         "71.9%",
         "44.9%",
         "9.0",
         "16.0",
         "7.0"
        ],
        [
         "VRSN",
         "69.2%",
         "25.8%",
         "10.0",
         "46.0",
         "36.0"
        ],
        [
         "FICO",
         "68.3%",
         "35.4%",
         "11.0",
         "26.0",
         "15.0"
        ],
        [
         "RCL",
         "64.3%",
         "30.3%",
         "12.0",
         "31.0",
         "19.0"
        ]
       ],
       "shape": {
        "columns": 5,
        "rows": 10
       }
      },
      "text/html": [
       "<div>\n",
       "<style scoped>\n",
       "    .dataframe tbody tr th:only-of-type {\n",
       "        vertical-align: middle;\n",
       "    }\n",
       "\n",
       "    .dataframe tbody tr th {\n",
       "        vertical-align: top;\n",
       "    }\n",
       "\n",
       "    .dataframe thead th {\n",
       "        text-align: right;\n",
       "    }\n",
       "</style>\n",
       "<table border=\"1\" class=\"dataframe\">\n",
       "  <thead>\n",
       "    <tr style=\"text-align: right;\">\n",
       "      <th></th>\n",
       "      <th>current_return</th>\n",
       "      <th>last_month_return</th>\n",
       "      <th>current_rank</th>\n",
       "      <th>last_month_rank</th>\n",
       "      <th>rank_change</th>\n",
       "    </tr>\n",
       "    <tr>\n",
       "      <th>ticker</th>\n",
       "      <th></th>\n",
       "      <th></th>\n",
       "      <th></th>\n",
       "      <th></th>\n",
       "      <th></th>\n",
       "    </tr>\n",
       "  </thead>\n",
       "  <tbody>\n",
       "    <tr>\n",
       "      <th>PLTR</th>\n",
       "      <td>452.6%</td>\n",
       "      <td>236.2%</td>\n",
       "      <td>1.0</td>\n",
       "      <td>1.0</td>\n",
       "      <td>0.0</td>\n",
       "    </tr>\n",
       "    <tr>\n",
       "      <th>GEV</th>\n",
       "      <td>140.2%</td>\n",
       "      <td>120.8%</td>\n",
       "      <td>2.0</td>\n",
       "      <td>2.0</td>\n",
       "      <td>0.0</td>\n",
       "    </tr>\n",
       "    <tr>\n",
       "      <th>TPL</th>\n",
       "      <td>128.5%</td>\n",
       "      <td>93.0%</td>\n",
       "      <td>3.0</td>\n",
       "      <td>3.0</td>\n",
       "      <td>0.0</td>\n",
       "    </tr>\n",
       "    <tr>\n",
       "      <th>AXON</th>\n",
       "      <td>120.2%</td>\n",
       "      <td>62.0%</td>\n",
       "      <td>4.0</td>\n",
       "      <td>6.0</td>\n",
       "      <td>2.0</td>\n",
       "    </tr>\n",
       "    <tr>\n",
       "      <th>TPR</th>\n",
       "      <td>98.9%</td>\n",
       "      <td>40.5%</td>\n",
       "      <td>5.0</td>\n",
       "      <td>18.0</td>\n",
       "      <td>13.0</td>\n",
       "    </tr>\n",
       "    <tr>\n",
       "      <th>NFLX</th>\n",
       "      <td>87.8%</td>\n",
       "      <td>38.5%</td>\n",
       "      <td>7.0</td>\n",
       "      <td>20.0</td>\n",
       "      <td>13.0</td>\n",
       "    </tr>\n",
       "    <tr>\n",
       "      <th>TKO</th>\n",
       "      <td>71.9%</td>\n",
       "      <td>44.9%</td>\n",
       "      <td>9.0</td>\n",
       "      <td>16.0</td>\n",
       "      <td>7.0</td>\n",
       "    </tr>\n",
       "    <tr>\n",
       "      <th>VRSN</th>\n",
       "      <td>69.2%</td>\n",
       "      <td>25.8%</td>\n",
       "      <td>10.0</td>\n",
       "      <td>46.0</td>\n",
       "      <td>36.0</td>\n",
       "    </tr>\n",
       "    <tr>\n",
       "      <th>FICO</th>\n",
       "      <td>68.3%</td>\n",
       "      <td>35.4%</td>\n",
       "      <td>11.0</td>\n",
       "      <td>26.0</td>\n",
       "      <td>15.0</td>\n",
       "    </tr>\n",
       "    <tr>\n",
       "      <th>RCL</th>\n",
       "      <td>64.3%</td>\n",
       "      <td>30.3%</td>\n",
       "      <td>12.0</td>\n",
       "      <td>31.0</td>\n",
       "      <td>19.0</td>\n",
       "    </tr>\n",
       "  </tbody>\n",
       "</table>\n",
       "</div>"
      ],
      "text/plain": [
       "       current_return last_month_return  current_rank  last_month_rank  \\\n",
       "ticker                                                                   \n",
       "PLTR           452.6%            236.2%           1.0              1.0   \n",
       "GEV            140.2%            120.8%           2.0              2.0   \n",
       "TPL            128.5%             93.0%           3.0              3.0   \n",
       "AXON           120.2%             62.0%           4.0              6.0   \n",
       "TPR             98.9%             40.5%           5.0             18.0   \n",
       "NFLX            87.8%             38.5%           7.0             20.0   \n",
       "TKO             71.9%             44.9%           9.0             16.0   \n",
       "VRSN            69.2%             25.8%          10.0             46.0   \n",
       "FICO            68.3%             35.4%          11.0             26.0   \n",
       "RCL             64.3%             30.3%          12.0             31.0   \n",
       "\n",
       "        rank_change  \n",
       "ticker               \n",
       "PLTR            0.0  \n",
       "GEV             0.0  \n",
       "TPL             0.0  \n",
       "AXON            2.0  \n",
       "TPR            13.0  \n",
       "NFLX           13.0  \n",
       "TKO             7.0  \n",
       "VRSN           36.0  \n",
       "FICO           15.0  \n",
       "RCL            19.0  "
      ]
     },
     "metadata": {},
     "output_type": "display_data"
    },
    {
     "name": "stdout",
     "output_type": "stream",
     "text": [
      "\n",
      "Full result shape: (252, 5) — NaNs dropped? 251\n",
      "Stored top 10 picks for 2025-05-09\n",
      "\n",
      "✅ Final top 10 (if any):\n"
     ]
    },
    {
     "data": {
      "application/vnd.microsoft.datawrangler.viewer.v0+json": {
       "columns": [
        {
         "name": "index",
         "rawType": "int64",
         "type": "integer"
        },
        {
         "name": "ticker",
         "rawType": "object",
         "type": "string"
        },
        {
         "name": "current_return",
         "rawType": "object",
         "type": "string"
        },
        {
         "name": "last_month_return",
         "rawType": "object",
         "type": "string"
        },
        {
         "name": "current_rank",
         "rawType": "float64",
         "type": "float"
        },
        {
         "name": "last_month_rank",
         "rawType": "float64",
         "type": "float"
        },
        {
         "name": "rank_change",
         "rawType": "float64",
         "type": "float"
        },
        {
         "name": "date",
         "rawType": "object",
         "type": "string"
        }
       ],
       "conversionMethod": "pd.DataFrame",
       "ref": "e83a3b82-f7f9-43bf-a533-79fe5e0ebff9",
       "rows": [
        [
         "0",
         "PLTR",
         "452.6%",
         "236.2%",
         "1.0",
         "1.0",
         "0.0",
         "2025-05-09"
        ],
        [
         "1",
         "GEV",
         "140.2%",
         "120.8%",
         "2.0",
         "2.0",
         "0.0",
         "2025-05-09"
        ],
        [
         "2",
         "TPL",
         "128.5%",
         "93.0%",
         "3.0",
         "3.0",
         "0.0",
         "2025-05-09"
        ],
        [
         "3",
         "AXON",
         "120.2%",
         "62.0%",
         "4.0",
         "6.0",
         "2.0",
         "2025-05-09"
        ],
        [
         "4",
         "TPR",
         "98.9%",
         "40.5%",
         "5.0",
         "18.0",
         "13.0",
         "2025-05-09"
        ],
        [
         "5",
         "NFLX",
         "87.8%",
         "38.5%",
         "7.0",
         "20.0",
         "13.0",
         "2025-05-09"
        ],
        [
         "6",
         "TKO",
         "71.9%",
         "44.9%",
         "9.0",
         "16.0",
         "7.0",
         "2025-05-09"
        ],
        [
         "7",
         "VRSN",
         "69.2%",
         "25.8%",
         "10.0",
         "46.0",
         "36.0",
         "2025-05-09"
        ],
        [
         "8",
         "FICO",
         "68.3%",
         "35.4%",
         "11.0",
         "26.0",
         "15.0",
         "2025-05-09"
        ],
        [
         "9",
         "RCL",
         "64.3%",
         "30.3%",
         "12.0",
         "31.0",
         "19.0",
         "2025-05-09"
        ]
       ],
       "shape": {
        "columns": 7,
        "rows": 10
       }
      },
      "text/html": [
       "<div>\n",
       "<style scoped>\n",
       "    .dataframe tbody tr th:only-of-type {\n",
       "        vertical-align: middle;\n",
       "    }\n",
       "\n",
       "    .dataframe tbody tr th {\n",
       "        vertical-align: top;\n",
       "    }\n",
       "\n",
       "    .dataframe thead th {\n",
       "        text-align: right;\n",
       "    }\n",
       "</style>\n",
       "<table border=\"1\" class=\"dataframe\">\n",
       "  <thead>\n",
       "    <tr style=\"text-align: right;\">\n",
       "      <th></th>\n",
       "      <th>ticker</th>\n",
       "      <th>current_return</th>\n",
       "      <th>last_month_return</th>\n",
       "      <th>current_rank</th>\n",
       "      <th>last_month_rank</th>\n",
       "      <th>rank_change</th>\n",
       "      <th>date</th>\n",
       "    </tr>\n",
       "  </thead>\n",
       "  <tbody>\n",
       "    <tr>\n",
       "      <th>0</th>\n",
       "      <td>PLTR</td>\n",
       "      <td>452.6%</td>\n",
       "      <td>236.2%</td>\n",
       "      <td>1.0</td>\n",
       "      <td>1.0</td>\n",
       "      <td>0.0</td>\n",
       "      <td>2025-05-09</td>\n",
       "    </tr>\n",
       "    <tr>\n",
       "      <th>1</th>\n",
       "      <td>GEV</td>\n",
       "      <td>140.2%</td>\n",
       "      <td>120.8%</td>\n",
       "      <td>2.0</td>\n",
       "      <td>2.0</td>\n",
       "      <td>0.0</td>\n",
       "      <td>2025-05-09</td>\n",
       "    </tr>\n",
       "    <tr>\n",
       "      <th>2</th>\n",
       "      <td>TPL</td>\n",
       "      <td>128.5%</td>\n",
       "      <td>93.0%</td>\n",
       "      <td>3.0</td>\n",
       "      <td>3.0</td>\n",
       "      <td>0.0</td>\n",
       "      <td>2025-05-09</td>\n",
       "    </tr>\n",
       "    <tr>\n",
       "      <th>3</th>\n",
       "      <td>AXON</td>\n",
       "      <td>120.2%</td>\n",
       "      <td>62.0%</td>\n",
       "      <td>4.0</td>\n",
       "      <td>6.0</td>\n",
       "      <td>2.0</td>\n",
       "      <td>2025-05-09</td>\n",
       "    </tr>\n",
       "    <tr>\n",
       "      <th>4</th>\n",
       "      <td>TPR</td>\n",
       "      <td>98.9%</td>\n",
       "      <td>40.5%</td>\n",
       "      <td>5.0</td>\n",
       "      <td>18.0</td>\n",
       "      <td>13.0</td>\n",
       "      <td>2025-05-09</td>\n",
       "    </tr>\n",
       "    <tr>\n",
       "      <th>5</th>\n",
       "      <td>NFLX</td>\n",
       "      <td>87.8%</td>\n",
       "      <td>38.5%</td>\n",
       "      <td>7.0</td>\n",
       "      <td>20.0</td>\n",
       "      <td>13.0</td>\n",
       "      <td>2025-05-09</td>\n",
       "    </tr>\n",
       "    <tr>\n",
       "      <th>6</th>\n",
       "      <td>TKO</td>\n",
       "      <td>71.9%</td>\n",
       "      <td>44.9%</td>\n",
       "      <td>9.0</td>\n",
       "      <td>16.0</td>\n",
       "      <td>7.0</td>\n",
       "      <td>2025-05-09</td>\n",
       "    </tr>\n",
       "    <tr>\n",
       "      <th>7</th>\n",
       "      <td>VRSN</td>\n",
       "      <td>69.2%</td>\n",
       "      <td>25.8%</td>\n",
       "      <td>10.0</td>\n",
       "      <td>46.0</td>\n",
       "      <td>36.0</td>\n",
       "      <td>2025-05-09</td>\n",
       "    </tr>\n",
       "    <tr>\n",
       "      <th>8</th>\n",
       "      <td>FICO</td>\n",
       "      <td>68.3%</td>\n",
       "      <td>35.4%</td>\n",
       "      <td>11.0</td>\n",
       "      <td>26.0</td>\n",
       "      <td>15.0</td>\n",
       "      <td>2025-05-09</td>\n",
       "    </tr>\n",
       "    <tr>\n",
       "      <th>9</th>\n",
       "      <td>RCL</td>\n",
       "      <td>64.3%</td>\n",
       "      <td>30.3%</td>\n",
       "      <td>12.0</td>\n",
       "      <td>31.0</td>\n",
       "      <td>19.0</td>\n",
       "      <td>2025-05-09</td>\n",
       "    </tr>\n",
       "  </tbody>\n",
       "</table>\n",
       "</div>"
      ],
      "text/plain": [
       "  ticker current_return last_month_return  current_rank  last_month_rank  \\\n",
       "0   PLTR         452.6%            236.2%           1.0              1.0   \n",
       "1    GEV         140.2%            120.8%           2.0              2.0   \n",
       "2    TPL         128.5%             93.0%           3.0              3.0   \n",
       "3   AXON         120.2%             62.0%           4.0              6.0   \n",
       "4    TPR          98.9%             40.5%           5.0             18.0   \n",
       "5   NFLX          87.8%             38.5%           7.0             20.0   \n",
       "6    TKO          71.9%             44.9%           9.0             16.0   \n",
       "7   VRSN          69.2%             25.8%          10.0             46.0   \n",
       "8   FICO          68.3%             35.4%          11.0             26.0   \n",
       "9    RCL          64.3%             30.3%          12.0             31.0   \n",
       "\n",
       "   rank_change        date  \n",
       "0          0.0  2025-05-09  \n",
       "1          0.0  2025-05-09  \n",
       "2          0.0  2025-05-09  \n",
       "3          2.0  2025-05-09  \n",
       "4         13.0  2025-05-09  \n",
       "5         13.0  2025-05-09  \n",
       "6          7.0  2025-05-09  \n",
       "7         36.0  2025-05-09  \n",
       "8         15.0  2025-05-09  \n",
       "9         19.0  2025-05-09  "
      ]
     },
     "metadata": {},
     "output_type": "display_data"
    }
   ],
   "source": [
    "import sys, os, importlib\n",
    "importlib.reload(ranking)  # ← this forces Python to reload the module\n",
    "\n",
    "\n",
    "\n",
    "from src.ranking import (\n",
    "    get_price_snapshots,\n",
    "    compute_returns_and_ranks,\n",
    "    store_top10_picks\n",
    ")\n",
    "from src.prices import get_target_dates\n",
    "\n",
    "# Step 1: Get target dates\n",
    "dates = get_target_dates()\n",
    "print(\"📅 Raw target dates:\")\n",
    "for k, v in dates.items():\n",
    "    print(f\"{k}: {v}\")\n",
    "\n",
    "# Step 2: Fetch prices and resolve dates\n",
    "df, resolved = get_price_snapshots(dates)\n",
    "print(\"\\n📅 Resolved trading dates used:\")\n",
    "for k, v in resolved.items():\n",
    "    print(f\"{k}: {v}\")\n",
    "\n",
    "print(\"\\n🧾 Price snapshot sample:\")\n",
    "display(df.head(10))\n",
    "print(f\"\\nShape: {df.shape} — Missing values: {df.isna().sum().sum()}\")\n",
    "\n",
    "# Step 3: Compute returns and ranks\n",
    "ranks = compute_returns_and_ranks(df, resolved)\n",
    "print(\"\\n📈 Top-ranked momentum results:\")\n",
    "display(ranks.head(10))\n",
    "print(f\"\\nFull result shape: {ranks.shape} — NaNs dropped? {df.shape[0] - ranks.shape[0]}\")\n",
    "\n",
    "# Step 4: Store top 10\n",
    "top10 = store_top10_picks(ranks)\n",
    "print(\"\\n✅ Final top 10 (if any):\")\n",
    "display(top10)\n"
   ]
  },
  {
   "cell_type": "markdown",
   "id": "1326a69b",
   "metadata": {},
   "source": [
    "python run_report.py\n"
   ]
  },
  {
   "cell_type": "code",
   "execution_count": 86,
   "id": "6c45a6ba",
   "metadata": {},
   "outputs": [
    {
     "name": "stdout",
     "output_type": "stream",
     "text": [
      "Retrieved 503 tickers.\n"
     ]
    },
    {
     "data": {
      "application/vnd.microsoft.datawrangler.viewer.v0+json": {
       "columns": [
        {
         "name": "index",
         "rawType": "int64",
         "type": "integer"
        },
        {
         "name": "ticker",
         "rawType": "object",
         "type": "string"
        }
       ],
       "conversionMethod": "pd.DataFrame",
       "ref": "96b7cc0a-f797-4a4f-b5e4-f48745c6fefd",
       "rows": [
        [
         "0",
         "MMM"
        ],
        [
         "1",
         "AOS"
        ],
        [
         "2",
         "ABT"
        ],
        [
         "3",
         "ABBV"
        ],
        [
         "4",
         "ACN"
        ],
        [
         "5",
         "ADBE"
        ],
        [
         "6",
         "AMD"
        ],
        [
         "7",
         "AES"
        ],
        [
         "8",
         "AFL"
        ],
        [
         "9",
         "A"
        ]
       ],
       "shape": {
        "columns": 1,
        "rows": 10
       }
      },
      "text/html": [
       "<div>\n",
       "<style scoped>\n",
       "    .dataframe tbody tr th:only-of-type {\n",
       "        vertical-align: middle;\n",
       "    }\n",
       "\n",
       "    .dataframe tbody tr th {\n",
       "        vertical-align: top;\n",
       "    }\n",
       "\n",
       "    .dataframe thead th {\n",
       "        text-align: right;\n",
       "    }\n",
       "</style>\n",
       "<table border=\"1\" class=\"dataframe\">\n",
       "  <thead>\n",
       "    <tr style=\"text-align: right;\">\n",
       "      <th></th>\n",
       "      <th>ticker</th>\n",
       "    </tr>\n",
       "  </thead>\n",
       "  <tbody>\n",
       "    <tr>\n",
       "      <th>0</th>\n",
       "      <td>MMM</td>\n",
       "    </tr>\n",
       "    <tr>\n",
       "      <th>1</th>\n",
       "      <td>AOS</td>\n",
       "    </tr>\n",
       "    <tr>\n",
       "      <th>2</th>\n",
       "      <td>ABT</td>\n",
       "    </tr>\n",
       "    <tr>\n",
       "      <th>3</th>\n",
       "      <td>ABBV</td>\n",
       "    </tr>\n",
       "    <tr>\n",
       "      <th>4</th>\n",
       "      <td>ACN</td>\n",
       "    </tr>\n",
       "    <tr>\n",
       "      <th>5</th>\n",
       "      <td>ADBE</td>\n",
       "    </tr>\n",
       "    <tr>\n",
       "      <th>6</th>\n",
       "      <td>AMD</td>\n",
       "    </tr>\n",
       "    <tr>\n",
       "      <th>7</th>\n",
       "      <td>AES</td>\n",
       "    </tr>\n",
       "    <tr>\n",
       "      <th>8</th>\n",
       "      <td>AFL</td>\n",
       "    </tr>\n",
       "    <tr>\n",
       "      <th>9</th>\n",
       "      <td>A</td>\n",
       "    </tr>\n",
       "  </tbody>\n",
       "</table>\n",
       "</div>"
      ],
      "text/plain": [
       "  ticker\n",
       "0    MMM\n",
       "1    AOS\n",
       "2    ABT\n",
       "3   ABBV\n",
       "4    ACN\n",
       "5   ADBE\n",
       "6    AMD\n",
       "7    AES\n",
       "8    AFL\n",
       "9      A"
      ]
     },
     "metadata": {},
     "output_type": "display_data"
    }
   ],
   "source": [
    "import sqlite3\n",
    "import pandas as pd\n",
    "\n",
    "# Path to your local SQLite database\n",
    "db_path = \"../data/market_data.sqlite\"\n",
    "\n",
    "# Connect and pull tickers from index_constituents\n",
    "with sqlite3.connect(db_path) as conn:\n",
    "    tickers = pd.read_sql(\n",
    "        \"SELECT DISTINCT ticker FROM index_constituents\",\n",
    "        conn\n",
    "    )\n",
    "\n",
    "print(f\"Retrieved {len(tickers)} tickers.\")\n",
    "display(tickers.head(10))\n"
   ]
  },
  {
   "cell_type": "code",
   "execution_count": 140,
   "id": "c6c73ee7",
   "metadata": {},
   "outputs": [
    {
     "name": "stdout",
     "output_type": "stream",
     "text": [
      "🚀 Starting Momentum Screener Pipeline\n",
      "Skipping 2025-05-08 — already in DB\n",
      "Skipping 2024-05-08 — already in DB\n",
      "Skipping 2025-04-08 — already in DB\n",
      "Skipping 2024-04-08 — already in DB\n",
      "Stored top 10 picks for 2025-05-09\n",
      "🔍 Fetching info for PLTR (1/10)\n",
      "✅ Already cached. Skipping.\n",
      "🔍 Fetching info for GEV (2/10)\n",
      "✅ Already cached. Skipping.\n",
      "🔍 Fetching info for TPL (3/10)\n",
      "✅ Already cached. Skipping.\n",
      "🔍 Fetching info for AXON (4/10)\n",
      "✅ Already cached. Skipping.\n",
      "🔍 Fetching info for TPR (5/10)\n",
      "✅ Already cached. Skipping.\n",
      "🔍 Fetching info for NFLX (6/10)\n",
      "✅ Already cached. Skipping.\n",
      "🔍 Fetching info for TKO (7/10)\n",
      "✅ Already cached. Skipping.\n",
      "🔍 Fetching info for VRSN (8/10)\n",
      "✅ Already cached. Skipping.\n",
      "🔍 Fetching info for FICO (9/10)\n",
      "✅ Already cached. Skipping.\n",
      "🔍 Fetching info for RCL (10/10)\n",
      "✅ Already cached. Skipping.\n",
      "✉️ Email sent. Status code: 202\n",
      "✅ Report sent successfully.\n"
     ]
    }
   ],
   "source": [
    "import sys\n",
    "import os\n",
    "import importlib\n",
    "import src.emailer\n",
    "\n",
    "importlib.reload(src.emailer)\n",
    "\n",
    "importlib.reload(run_report)  # ← this forces Python to reload the module\n",
    "\n",
    "\n",
    "\n",
    "from src.run_report import main\n",
    "main()\n"
   ]
  },
  {
   "cell_type": "code",
   "execution_count": 131,
   "id": "99dd269a",
   "metadata": {},
   "outputs": [
    {
     "name": "stdout",
     "output_type": "stream",
     "text": [
      "Collecting sendgrid\n",
      "  Downloading sendgrid-6.12.0-py3-none-any.whl.metadata (12 kB)\n",
      "Collecting python-http-client>=3.2.1 (from sendgrid)\n",
      "  Using cached python_http_client-3.3.7-py3-none-any.whl.metadata (6.9 kB)\n",
      "Collecting starkbank-ecdsa>=2.0.1 (from sendgrid)\n",
      "  Using cached starkbank-ecdsa-2.2.0.tar.gz (14 kB)\n",
      "  Installing build dependencies ... \u001b[?25ldone\n",
      "\u001b[?25h  Getting requirements to build wheel ... \u001b[?25ldone\n",
      "\u001b[?25h  Preparing metadata (pyproject.toml) ... \u001b[?25ldone\n",
      "\u001b[?25hCollecting werkzeug>=3.0.0 (from sendgrid)\n",
      "  Downloading werkzeug-3.1.3-py3-none-any.whl.metadata (3.7 kB)\n",
      "Requirement already satisfied: MarkupSafe>=2.1.1 in /Users/zacseidel/Desktop/Investing/.venv/lib/python3.12/site-packages (from werkzeug>=3.0.0->sendgrid) (2.1.5)\n",
      "Downloading sendgrid-6.12.0-py3-none-any.whl (102 kB)\n",
      "Using cached python_http_client-3.3.7-py3-none-any.whl (8.4 kB)\n",
      "Downloading werkzeug-3.1.3-py3-none-any.whl (224 kB)\n",
      "Building wheels for collected packages: starkbank-ecdsa\n",
      "  Building wheel for starkbank-ecdsa (pyproject.toml) ... \u001b[?25ldone\n",
      "\u001b[?25h  Created wheel for starkbank-ecdsa: filename=starkbank_ecdsa-2.2.0-py3-none-any.whl size=16046 sha256=042249c83a48abff1fb0675a3748f2be45a65617e2ac172c9364c0ba53b8607a\n",
      "  Stored in directory: /Users/zacseidel/Library/Caches/pip/wheels/cd/f5/50/6d59fdb0745800dbdd34f52bbf56b3c5d1f4e8dcd2d923cf8d\n",
      "Successfully built starkbank-ecdsa\n",
      "Installing collected packages: starkbank-ecdsa, werkzeug, python-http-client, sendgrid\n",
      "Successfully installed python-http-client-3.3.7 sendgrid-6.12.0 starkbank-ecdsa-2.2.0 werkzeug-3.1.3\n",
      "\n",
      "\u001b[1m[\u001b[0m\u001b[34;49mnotice\u001b[0m\u001b[1;39;49m]\u001b[0m\u001b[39;49m A new release of pip is available: \u001b[0m\u001b[31;49m24.2\u001b[0m\u001b[39;49m -> \u001b[0m\u001b[32;49m25.1.1\u001b[0m\n",
      "\u001b[1m[\u001b[0m\u001b[34;49mnotice\u001b[0m\u001b[1;39;49m]\u001b[0m\u001b[39;49m To update, run: \u001b[0m\u001b[32;49mpip install --upgrade pip\u001b[0m\n"
     ]
    }
   ],
   "source": [
    "!pip install sendgrid"
   ]
  },
  {
   "cell_type": "code",
   "execution_count": null,
   "id": "f93d2509",
   "metadata": {},
   "outputs": [],
   "source": []
  }
 ],
 "metadata": {
  "kernelspec": {
   "display_name": ".venv",
   "language": "python",
   "name": "python3"
  },
  "language_info": {
   "codemirror_mode": {
    "name": "ipython",
    "version": 3
   },
   "file_extension": ".py",
   "mimetype": "text/x-python",
   "name": "python",
   "nbconvert_exporter": "python",
   "pygments_lexer": "ipython3",
   "version": "3.12.3"
  }
 },
 "nbformat": 4,
 "nbformat_minor": 5
}
